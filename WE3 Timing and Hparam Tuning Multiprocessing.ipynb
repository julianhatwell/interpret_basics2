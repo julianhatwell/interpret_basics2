{
 "cells": [
  {
   "cell_type": "code",
   "execution_count": 1,
   "metadata": {},
   "outputs": [
    {
     "ename": "SyntaxError",
     "evalue": "invalid syntax (routines.py, line 715)",
     "output_type": "error",
     "traceback": [
      "Traceback \u001b[1;36m(most recent call last)\u001b[0m:\n",
      "  File \u001b[0;32m\"C:\\Users\\id126493\\AppData\\Local\\Continuum\\anaconda3\\lib\\site-packages\\IPython\\core\\interactiveshell.py\"\u001b[0m, line \u001b[0;32m2910\u001b[0m, in \u001b[0;35mrun_code\u001b[0m\n    exec(code_obj, self.user_global_ns, self.user_ns)\n",
      "\u001b[1;36m  File \u001b[1;32m\"<ipython-input-1-9a799311e2d0>\"\u001b[1;36m, line \u001b[1;32m9\u001b[1;36m, in \u001b[1;35m<module>\u001b[1;36m\u001b[0m\n\u001b[1;33m    from forest_surveyor.routines import grid_experiment_mp\u001b[0m\n",
      "\u001b[1;36m  File \u001b[1;32m\"C:\\Users\\id126493\\Documents\\GitHub\\interpret_basics2\\forest_surveyor\\routines.py\"\u001b[1;36m, line \u001b[1;32m715\u001b[0m\n\u001b[1;33m    iv_low, iv_high = iv_high)\u001b[0m\n\u001b[1;37m                    ^\u001b[0m\n\u001b[1;31mSyntaxError\u001b[0m\u001b[1;31m:\u001b[0m invalid syntax\n"
     ]
    }
   ],
   "source": [
    "from IPython.display import Image\n",
    "%matplotlib inline\n",
    "\n",
    "# experimental script\n",
    "import pickle\n",
    "import numpy as np\n",
    "from pandas import DataFrame\n",
    "import forest_surveyor.datasets as ds\n",
    "from forest_surveyor.routines import grid_experiment_mp\n",
    "from forest_surveyor.mp_callable import mp_experiment"
   ]
  },
  {
   "cell_type": "code",
   "execution_count": null,
   "metadata": {
    "scrolled": false
   },
   "outputs": [],
   "source": [
    "datasets = [\n",
    "            ds.adult_small_samp_data,\n",
    "            ds.bankmark_samp_data,\n",
    "            ds.car_data,\n",
    "            ds.cardiotography_data,\n",
    "            ds.credit_data,\n",
    "            ds.german_data,\n",
    "            ds.lending_tiny_samp_data,\n",
    "            ds.nursery_samp_data,\n",
    "            ds.rcdv_samp_data\n",
    "           ]\n",
    "\n",
    "\n",
    "random_state = np.tile(np.repeat([i + 123 for i in range(30)], len(datasets)), 330)\n",
    "add_trees = np.repeat([i * 100 for i in range(11)], len(datasets) * 30)\n",
    "override_tuning = np.concatenate((np.tile(np.array([True]), 30 * len(datasets)), np.tile(np.array([False]), 10 * 30 * len(datasets))))\n",
    "alpha_scores = np.tile([0.5], 330 * len(datasets))\n",
    "alpha_paths = np.tile([0.5], 330 * len(datasets))\n",
    "support_paths = np.tile([0.05], 330 * len(datasets))\n",
    "run_anchors = np.tile([False], 330 * len(datasets))\n",
    "precis_threshold = np.tile([0.95], 330 * len(datasets))\n",
    "n_instances = np.tile([500], 330 * len(datasets))\n",
    "n_batches = np.tile([1], 330 * len(datasets))\n",
    "eval_model = np.tile([True], 330 * len(datasets))\n",
    "which_trees = np.tile(['majority'], 330 * len(datasets))\n",
    "disc_path_bins = np.tile([4], 330 * len(datasets))\n",
    "disc_path_eqcounts = np.tile([False], 330 * len(datasets))\n",
    "iv_low = np.tile([random_state.min()], 330 * len(datasets))\n",
    "iv_high = np.tile([random_state.max() + 1], 330 * len(datasets))\n",
    "\n",
    "datasets = np.tile(datasets, 330)\n",
    "\n",
    "exp_grid1 = DataFrame([(dset, r, at, o, ni, nb, e, alsc, alpt, s, p, c, wt, dpb, dpq, ivl, ivh) \n",
    "                       for dset, r, at, o, ni, nb, e, alsc, alpt, s, p, c, wt, dpb, dpq, ivl, ivh \n",
    "                       in zip(datasets,\n",
    "                                random_state,\n",
    "                                add_trees,\n",
    "                                override_tuning,\n",
    "                                n_instances,\n",
    "                                n_batches,\n",
    "                                eval_model,\n",
    "                                alpha_scores,\n",
    "                                alpha_paths,\n",
    "                                support_paths,\n",
    "                                precis_threshold,\n",
    "                                run_anchors,\n",
    "                                which_trees,\n",
    "                                disc_path_bins,\n",
    "                                disc_path_eqcounts,\n",
    "                                iv_low,\n",
    "                                iv_high)], \n",
    "                     columns=['dataset', 'random_state', 'add_trees',\n",
    "                              'override_tuning', 'n_instances', 'n_batches',\n",
    "                              'eval_model', 'alpha_scores', 'alpha_paths',\n",
    "                              'support_paths', 'precis_threshold',\n",
    "                              'run_anchors', 'which_trees',\n",
    "                              'disc_path_bins', 'disc_path_eqcounts',\n",
    "                              'iv_low', 'iv_high'])\n",
    "\n",
    "#exp_grid1.reindex()\n",
    "exp_grid1.reset_index(level=0, inplace=True)\n",
    "exp_grid1.to_csv('whiteboxing/exp_grid1.csv')"
   ]
  },
  {
   "cell_type": "code",
   "execution_count": null,
   "metadata": {},
   "outputs": [],
   "source": [
    "exp_grid_test = exp_grid1.loc[0:3]\n",
    "exp_grid_test"
   ]
  },
  {
   "cell_type": "code",
   "execution_count": null,
   "metadata": {
    "scrolled": false
   },
   "outputs": [],
   "source": [
    "# mp_experiment(exp_grid1.loc[0])"
   ]
  },
  {
   "cell_type": "code",
   "execution_count": null,
   "metadata": {
    "scrolled": false
   },
   "outputs": [],
   "source": [
    "procs = grid_experiment_mp(grid = exp_grid_test)"
   ]
  },
  {
   "cell_type": "code",
   "execution_count": null,
   "metadata": {},
   "outputs": [],
   "source": [
    "procs[0].get()"
   ]
  },
  {
   "cell_type": "code",
   "execution_count": null,
   "metadata": {},
   "outputs": [],
   "source": [
    "procs"
   ]
  },
  {
   "cell_type": "code",
   "execution_count": null,
   "metadata": {},
   "outputs": [],
   "source": []
  },
  {
   "cell_type": "code",
   "execution_count": null,
   "metadata": {},
   "outputs": [],
   "source": []
  }
 ],
 "metadata": {
  "kernelspec": {
   "display_name": "Python 3",
   "language": "python",
   "name": "python3"
  },
  "language_info": {
   "codemirror_mode": {
    "name": "ipython",
    "version": 3
   },
   "file_extension": ".py",
   "mimetype": "text/x-python",
   "name": "python",
   "nbconvert_exporter": "python",
   "pygments_lexer": "ipython3",
   "version": "3.6.4"
  }
 },
 "nbformat": 4,
 "nbformat_minor": 2
}
