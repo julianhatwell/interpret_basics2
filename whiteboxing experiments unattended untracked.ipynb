{
 "cells": [
  {
   "cell_type": "markdown",
   "metadata": {},
   "source": [
    "### Prologue\n",
    "Prepare the notebook for inline plotting<br>\n",
    "Load required libraries<br>\n",
    "Create custom functions<br>\n",
    "Load and preprocess data<br>\n",
    "Tune random forest parameters if previous best params not exist already<br>\n",
    "Train a random forest using previously optimized/tuned hyper-parameters<br>\n",
    "Create Forest Walker model and assess rules found on the test set."
   ]
  },
  {
   "cell_type": "code",
   "execution_count": null,
   "metadata": {
    "scrolled": false
   },
   "outputs": [],
   "source": [
    "from IPython.display import Image\n",
    "%matplotlib inline\n",
    "\n",
    "# experimental script\n",
    "import pickle\n",
    "import forest_surveyor.datasets as ds\n",
    "from forest_surveyor.routines import experiment\n",
    "\n",
    "alpha_scores = 0.75\n",
    "for dataset in [\n",
    "#                 ds.accident_small_samp_data,\n",
    "#                 ds.adult_small_samp_data,\n",
    "#                 ds.bankmark_samp_data,\n",
    "#                 ds.car_data,\n",
    "#                 ds.cardiotography_data,\n",
    "#                 ds.credit_data,\n",
    "#                 ds.german_data,\n",
    "#                 ds.lending_tiny_samp_data,\n",
    "                ds.nursery_samp_data,\n",
    "#                 ds.rcdv_samp_data\n",
    "               ]:\n",
    "\n",
    "# for dataset in [ds.rcdv_samp_data]:\n",
    "    rule_acc, results, output_df = experiment(dataset,\n",
    "                    n_instances=1,\n",
    "                    n_batches=1,\n",
    "                    support_paths=0.05,\n",
    "                    alpha_paths=0.6,\n",
    "                    alpha_scores=alpha_scores,\n",
    "                    which_trees='majority',\n",
    "                    precis_threshold=0.95,                                  \n",
    "                    eval_model=True,\n",
    "                    run_anchors=True\n",
    "                        )"
   ]
  },
  {
   "cell_type": "code",
   "execution_count": null,
   "metadata": {},
   "outputs": [],
   "source": []
  }
 ],
 "metadata": {
  "anaconda-cloud": {},
  "kernelspec": {
   "display_name": "Python 3",
   "language": "python",
   "name": "python3"
  },
  "language_info": {
   "codemirror_mode": {
    "name": "ipython",
    "version": 3
   },
   "file_extension": ".py",
   "mimetype": "text/x-python",
   "name": "python",
   "nbconvert_exporter": "python",
   "pygments_lexer": "ipython3",
   "version": "3.6.4"
  }
 },
 "nbformat": 4,
 "nbformat_minor": 2
}
