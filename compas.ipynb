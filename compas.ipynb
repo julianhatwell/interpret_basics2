{
 "cells": [
  {
   "cell_type": "code",
   "execution_count": 82,
   "metadata": {},
   "outputs": [],
   "source": [
    "import os\n",
    "import io\n",
    "import pandas as pd\n",
    "from sklearn.preprocessing import LabelEncoder, OneHotEncoder\n",
    "from sklearn.model_selection import train_test_split, GridSearchCV, ParameterGrid\n",
    "import pickle\n",
    "from itertools import chain\n",
    "import requests\n",
    "\n",
    "import math\n",
    "\n",
    "pickle_dir = 'adult_pickles'\n",
    "\n",
    "# helper function for data frame str / summary\n",
    "def rstr(df):\n",
    "    return df.shape, df.apply(lambda x: [x.unique()])\n",
    "\n",
    "# helper function for pickling files\n",
    "def pickle_path(filename):\n",
    "    return(pickle_dir + '\\\\' + filename)\n",
    "\n",
    "url=\"https://raw.githubusercontent.com/propublica/compas-analysis/master/compas-scores-two-years.csv\"\n",
    "s=requests.get(url).content\n",
    "compas = pd.read_csv(io.StringIO(s.decode('utf-8')))\n",
    "\n",
    "var_names = compas.columns.tolist()\n",
    "\n",
    "review_vars = ['age', 'c_charge_degree', 'race', 'age_cat', 'score_text', 'sex', 'priors_count', \n",
    "'days_b_screening_arrest', 'decile_score', 'is_recid', 'two_year_recid', 'c_jail_in', 'c_jail_out']\n",
    "\n",
    "extra_vars = ['compas_screening_date', 'juv_fel_count', 'juv_misd_count'\n",
    ", 'juv_other_count', 'c_offense_date', 'c_days_from_compas'\n",
    ", 'c_charge_desc']\n",
    "\n",
    "exclude_vars = [v for v in var_names if v not in review_vars] # and v not in extra_vars]\n",
    "\n",
    "compas = compas.drop(exclude_vars, axis=1)\n",
    "\n",
    "vars_types = ['nominal'\n",
    "           , 'continuous'\n",
    "           , 'nominal'\n",
    "           , 'nominal'\n",
    "           , 'continuous'\n",
    "           , 'continuous'\n",
    "           , 'continuous'\n",
    "           , 'continuous'\n",
    "           , 'continuous'\n",
    "           , 'nominal'\n",
    "           , 'nominal'\n",
    "           , 'nominal'              \n",
    "           , 'nominal']\n",
    "\n",
    "class_col = 'is_recid'\n",
    "\n",
    "compas = compas[~pd.isnull(compas.days_b_screening_arrest.values)]\n",
    "compas = compas[compas.days_b_screening_arrest.values <= 30]\n",
    "compas = compas[compas.days_b_screening_arrest.values >= -30]\n",
    "compas = compas[compas.is_recid != -1]\n",
    "compas = compas[compas.c_charge_degree != 'O']\n",
    "\n",
    "parse_date = lambda x : datetime.datetime.strptime(x, '%Y-%m-%d %I:%M:%S') \n",
    "\n",
    "compas.c_jail_in = compas.c_jail_in.map(parse_date)\n",
    "compas.c_jail_out = compas.c_jail_out.map(parse_date)\n",
    "compas['length_of_stay'] = compas.c_jail_out - compas.c_jail_in"
   ]
  },
  {
   "cell_type": "code",
   "execution_count": 83,
   "metadata": {},
   "outputs": [
    {
     "data": {
      "text/plain": [
       "((6172, 14),\n",
       " sex                                                         [[Male, Female]]\n",
       " age                        [[69, 34, 24, 44, 41, 43, 39, 27, 23, 37, 47, ...\n",
       " age_cat                           [[Greater than 45, 25 - 45, Less than 25]]\n",
       " race                       [[Other, African-American, Caucasian, Hispanic...\n",
       " decile_score                               [[1, 3, 4, 6, 10, 5, 9, 2, 7, 8]]\n",
       " priors_count               [[0, 4, 14, 3, 1, 7, 6, 5, 13, 8, 9, 21, 2, 15...\n",
       " days_b_screening_arrest    [[-1.0, 0.0, -20.0, 22.0, -2.0, -24.0, -13.0, ...\n",
       " c_jail_in                  [[2013-08-13 06:03:42, 2013-01-26 03:45:27, 20...\n",
       " c_jail_out                 [[2013-08-14 05:41:20, 2013-02-05 05:36:53, 20...\n",
       " c_charge_degree                                                     [[F, M]]\n",
       " is_recid                                                            [[0, 1]]\n",
       " score_text                                             [[Low, Medium, High]]\n",
       " two_year_recid                                                      [[0, 1]]\n",
       " length_of_stay             [[0 days 23:37:38, 10 days 01:51:26, 1 days 02...\n",
       " dtype: object)"
      ]
     },
     "execution_count": 83,
     "metadata": {},
     "output_type": "execute_result"
    }
   ],
   "source": [
    "rstr(compas)"
   ]
  },
  {
   "cell_type": "code",
   "execution_count": null,
   "metadata": {},
   "outputs": [],
   "source": [
    "compas = compas.drop(['id', 'name', 'first', 'last', 'dob'\n",
    "                      , 'c_case_number', 'r_case_number'\n",
    "                      , 'violent_recid', 'vr_case_number'\n",
    "                     , 'type_of_assessment', 'v_type_of_assessment'\n",
    "                     , 'priors_count.1'], axis=1)\n",
    "\n",
    "\n",
    "\n",
    "rstr(compas)"
   ]
  }
 ],
 "metadata": {
  "kernelspec": {
   "display_name": "Python [conda env:Anaconda3]",
   "language": "python",
   "name": "conda-env-Anaconda3-py"
  },
  "language_info": {
   "codemirror_mode": {
    "name": "ipython",
    "version": 3
   },
   "file_extension": ".py",
   "mimetype": "text/x-python",
   "name": "python",
   "nbconvert_exporter": "python",
   "pygments_lexer": "ipython3",
   "version": "3.5.4"
  }
 },
 "nbformat": 4,
 "nbformat_minor": 2
}
