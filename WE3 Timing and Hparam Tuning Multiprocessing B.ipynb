{
 "cells": [
  {
   "cell_type": "code",
   "execution_count": 1,
   "metadata": {},
   "outputs": [],
   "source": [
    "from IPython.display import Image\n",
    "%matplotlib inline\n",
    "\n",
    "# experimental script\n",
    "import numpy as np\n",
    "from pandas import DataFrame\n",
    "import forest_surveyor.datasets as ds\n",
    "from forest_surveyor.experiments import grid_experiment_mp"
   ]
  },
  {
   "cell_type": "code",
   "execution_count": 2,
   "metadata": {
    "scrolled": false
   },
   "outputs": [],
   "source": [
    "datasets = [\n",
    "            ds.adult_small_samp_data,\n",
    "            ds.bankmark_samp_data,\n",
    "            ds.car_data,\n",
    "            ds.cardiotography_data,\n",
    "            ds.credit_data,\n",
    "            ds.german_data,\n",
    "            ds.lending_tiny_samp_data,\n",
    "            ds.nursery_samp_data,\n",
    "            ds.rcdv_samp_data\n",
    "           ]\n",
    "\n",
    "\n",
    "random_state = np.tile(np.repeat([i + 123 for i in range(30)], len(datasets)), 330)\n",
    "add_trees = np.repeat([i * 100 for i in range(11)], len(datasets) * 30)\n",
    "override_tuning = np.concatenate((np.tile(np.array([False]), 30 * len(datasets)), np.tile(np.array([False]), 10 * 30 * len(datasets))))\n",
    "alpha_scores = np.tile([0.5], 330 * len(datasets))\n",
    "alpha_paths = np.tile([0.5], 330 * len(datasets))\n",
    "support_paths = np.tile([0.05], 330 * len(datasets))\n",
    "run_anchors = np.tile([False], 330 * len(datasets))\n",
    "precis_threshold = np.tile([0.95], 330 * len(datasets))\n",
    "n_instances = np.tile([5], 330 * len(datasets))\n",
    "n_batches = np.tile([1], 330 * len(datasets))\n",
    "eval_model = np.tile([False], 330 * len(datasets))\n",
    "which_trees = np.tile(['majority'], 330 * len(datasets))\n",
    "disc_path_bins = np.tile([4], 330 * len(datasets))\n",
    "disc_path_eqcounts = np.tile([False], 330 * len(datasets))\n",
    "iv_low = np.tile([random_state.min()], 330 * len(datasets))\n",
    "iv_high = np.tile([random_state.max() + 1], 330 * len(datasets))\n",
    "\n",
    "datasets = np.tile(datasets, 330)\n",
    "\n",
    "exp_grid1 = DataFrame([(dset, r, at, o, ni, nb, e, alsc, alpt, s, p, c, wt, dpb, dpq, ivl, ivh) \n",
    "                       for dset, r, at, o, ni, nb, e, alsc, alpt, s, p, c, wt, dpb, dpq, ivl, ivh \n",
    "                       in zip(datasets,\n",
    "                                random_state,\n",
    "                                add_trees,\n",
    "                                override_tuning,\n",
    "                                n_instances,\n",
    "                                n_batches,\n",
    "                                eval_model,\n",
    "                                alpha_scores,\n",
    "                                alpha_paths,\n",
    "                                support_paths,\n",
    "                                precis_threshold,\n",
    "                                run_anchors,\n",
    "                                which_trees,\n",
    "                                disc_path_bins,\n",
    "                                disc_path_eqcounts,\n",
    "                                iv_low,\n",
    "                                iv_high)], \n",
    "                     columns=['dataset', 'random_state', 'add_trees',\n",
    "                              'override_tuning', 'n_instances', 'n_batches',\n",
    "                              'eval_model', 'alpha_scores', 'alpha_paths',\n",
    "                              'support_paths', 'precis_threshold',\n",
    "                              'run_anchors', 'which_trees',\n",
    "                              'disc_path_bins', 'disc_path_eqcounts',\n",
    "                              'iv_low', 'iv_high'])\n",
    "\n",
    "#exp_grid1.reindex()\n",
    "exp_grid1.reset_index(level=0, inplace=True)\n",
    "colnames = exp_grid1.columns.tolist()\n",
    "colnames[0] = 'grid_idx'\n",
    "exp_grid1.columns = colnames\n",
    "exp_grid1\n",
    "exp_grid1.to_csv('whiteboxing/exp_grid1.csv')"
   ]
  },
  {
   "cell_type": "code",
   "execution_count": 3,
   "metadata": {},
   "outputs": [
    {
     "data": {
      "text/html": [
       "<div>\n",
       "<style scoped>\n",
       "    .dataframe tbody tr th:only-of-type {\n",
       "        vertical-align: middle;\n",
       "    }\n",
       "\n",
       "    .dataframe tbody tr th {\n",
       "        vertical-align: top;\n",
       "    }\n",
       "\n",
       "    .dataframe thead th {\n",
       "        text-align: right;\n",
       "    }\n",
       "</style>\n",
       "<table border=\"1\" class=\"dataframe\">\n",
       "  <thead>\n",
       "    <tr style=\"text-align: right;\">\n",
       "      <th></th>\n",
       "      <th>grid_idx</th>\n",
       "      <th>dataset</th>\n",
       "      <th>random_state</th>\n",
       "      <th>add_trees</th>\n",
       "      <th>override_tuning</th>\n",
       "      <th>n_instances</th>\n",
       "      <th>n_batches</th>\n",
       "      <th>eval_model</th>\n",
       "      <th>alpha_scores</th>\n",
       "      <th>alpha_paths</th>\n",
       "      <th>support_paths</th>\n",
       "      <th>precis_threshold</th>\n",
       "      <th>run_anchors</th>\n",
       "      <th>which_trees</th>\n",
       "      <th>disc_path_bins</th>\n",
       "      <th>disc_path_eqcounts</th>\n",
       "      <th>iv_low</th>\n",
       "      <th>iv_high</th>\n",
       "    </tr>\n",
       "  </thead>\n",
       "  <tbody>\n",
       "    <tr>\n",
       "      <th>0</th>\n",
       "      <td>0</td>\n",
       "      <td>&lt;function adult_small_samp_data at 0x0000022E5...</td>\n",
       "      <td>123</td>\n",
       "      <td>0</td>\n",
       "      <td>False</td>\n",
       "      <td>50</td>\n",
       "      <td>2</td>\n",
       "      <td>False</td>\n",
       "      <td>0.5</td>\n",
       "      <td>0.5</td>\n",
       "      <td>0.05</td>\n",
       "      <td>0.95</td>\n",
       "      <td>False</td>\n",
       "      <td>majority</td>\n",
       "      <td>4</td>\n",
       "      <td>False</td>\n",
       "      <td>123</td>\n",
       "      <td>153</td>\n",
       "    </tr>\n",
       "    <tr>\n",
       "      <th>1</th>\n",
       "      <td>1</td>\n",
       "      <td>&lt;function bankmark_samp_data at 0x0000022E5952...</td>\n",
       "      <td>123</td>\n",
       "      <td>0</td>\n",
       "      <td>False</td>\n",
       "      <td>50</td>\n",
       "      <td>2</td>\n",
       "      <td>False</td>\n",
       "      <td>0.5</td>\n",
       "      <td>0.5</td>\n",
       "      <td>0.05</td>\n",
       "      <td>0.95</td>\n",
       "      <td>False</td>\n",
       "      <td>majority</td>\n",
       "      <td>4</td>\n",
       "      <td>False</td>\n",
       "      <td>123</td>\n",
       "      <td>153</td>\n",
       "    </tr>\n",
       "  </tbody>\n",
       "</table>\n",
       "</div>"
      ],
      "text/plain": [
       "   grid_idx                                            dataset  random_state  \\\n",
       "0         0  <function adult_small_samp_data at 0x0000022E5...           123   \n",
       "1         1  <function bankmark_samp_data at 0x0000022E5952...           123   \n",
       "\n",
       "   add_trees  override_tuning  n_instances  n_batches  eval_model  \\\n",
       "0          0            False           50          2       False   \n",
       "1          0            False           50          2       False   \n",
       "\n",
       "   alpha_scores  alpha_paths  support_paths  precis_threshold  run_anchors  \\\n",
       "0           0.5          0.5           0.05              0.95        False   \n",
       "1           0.5          0.5           0.05              0.95        False   \n",
       "\n",
       "  which_trees  disc_path_bins  disc_path_eqcounts  iv_low  iv_high  \n",
       "0    majority               4               False     123      153  \n",
       "1    majority               4               False     123      153  "
      ]
     },
     "execution_count": 3,
     "metadata": {},
     "output_type": "execute_result"
    }
   ],
   "source": [
    "exp_grid_test = exp_grid1.loc[range(2)]\n",
    "exp_grid_test"
   ]
  },
  {
   "cell_type": "code",
   "execution_count": 4,
   "metadata": {
    "scrolled": false
   },
   "outputs": [
    {
     "name": "stdout",
     "output_type": "stream",
     "text": [
      "2 runs to do\n",
      "starting new run for random_state 123 and 0 additional trees\n",
      "using previous tuning parameters\n",
      "walking forest for batch 0 of batch size 25\n",
      "Forest Walk time elapsed: 1.4619 seconds\n",
      "Forest Walk with async = False\n"
     ]
    },
    {
     "name": "stderr",
     "output_type": "stream",
     "text": [
      "C:\\Users\\id126493\\Documents\\GitHub\\interpret_basics2\\forest_surveyor\\structures.py:321: RuntimeWarning: invalid value encountered in true_divide\n",
      "  np.histogram(lowers, lower_bins)[0]).round(5)\n",
      "C:\\Users\\id126493\\Documents\\GitHub\\interpret_basics2\\forest_surveyor\\structures.py:317: RuntimeWarning: invalid value encountered in true_divide\n",
      "  np.histogram(uppers, upper_bins)[0]).round(5)\n"
     ]
    },
    {
     "name": "stdout",
     "output_type": "stream",
     "text": [
      "Chirps batch time elapsed: 12.2665 seconds\n",
      "Chirps batch with async = False\n",
      "walking forest for batch 1 of batch size 25\n",
      "Forest Walk time elapsed: 1.4648 seconds\n",
      "Forest Walk with async = False\n",
      "Chirps batch time elapsed: 12.0985 seconds\n",
      "Chirps batch with async = False\n",
      "evaluating found explanations\n",
      "completed experiment for random_state 123 and 0 additional trees\n",
      "starting new run for random_state 123 and 0 additional trees\n",
      "using previous tuning parameters\n",
      "walking forest for batch 0 of batch size 25\n",
      "Forest Walk time elapsed: 4.6930 seconds\n",
      "Forest Walk with async = False\n"
     ]
    },
    {
     "name": "stderr",
     "output_type": "stream",
     "text": [
      "C:\\Users\\id126493\\Documents\\GitHub\\interpret_basics2\\forest_surveyor\\structures.py:317: RuntimeWarning: invalid value encountered in true_divide\n",
      "  np.histogram(uppers, upper_bins)[0]).round(5)\n",
      "C:\\Users\\id126493\\Documents\\GitHub\\interpret_basics2\\forest_surveyor\\structures.py:321: RuntimeWarning: invalid value encountered in true_divide\n",
      "  np.histogram(lowers, lower_bins)[0]).round(5)\n"
     ]
    },
    {
     "name": "stdout",
     "output_type": "stream",
     "text": [
      "Chirps batch time elapsed: 24.3757 seconds\n",
      "Chirps batch with async = False\n",
      "walking forest for batch 1 of batch size 25\n",
      "Forest Walk time elapsed: 4.9413 seconds\n",
      "Forest Walk with async = False\n",
      "Chirps batch time elapsed: 23.9937 seconds\n",
      "Chirps batch with async = False\n",
      "evaluating found explanations\n",
      "completed experiment for random_state 123 and 0 additional trees\n",
      "Completed 2 run(s)\n",
      "\n",
      "Time elapsed: 92.4197 seconds\n"
     ]
    }
   ],
   "source": [
    "if __name__=='__main__':\n",
    "    procs = grid_experiment_mp(grid = exp_grid_test)"
   ]
  },
  {
   "cell_type": "code",
   "execution_count": 5,
   "metadata": {
    "scrolled": false
   },
   "outputs": [
    {
     "data": {
      "text/plain": [
       "[(27.498874592225597, None, 0), (58.387511654453085, None, 1)]"
      ]
     },
     "execution_count": 5,
     "metadata": {},
     "output_type": "execute_result"
    }
   ],
   "source": [
    "procs"
   ]
  },
  {
   "cell_type": "code",
   "execution_count": null,
   "metadata": {},
   "outputs": [],
   "source": [
    "# import pickle\n",
    "# results_store = open('whiteboxing/adult_small_samp_pickles/completed_rule_accs_rnst_123_addt_0.pickle', \"rb\")\n",
    "# results = pickle.load(results_store)\n",
    "# results_store.close()"
   ]
  },
  {
   "cell_type": "code",
   "execution_count": null,
   "metadata": {},
   "outputs": [],
   "source": []
  }
 ],
 "metadata": {
  "kernelspec": {
   "display_name": "Python 3",
   "language": "python",
   "name": "python3"
  },
  "language_info": {
   "codemirror_mode": {
    "name": "ipython",
    "version": 3
   },
   "file_extension": ".py",
   "mimetype": "text/x-python",
   "name": "python",
   "nbconvert_exporter": "python",
   "pygments_lexer": "ipython3",
   "version": "3.6.4"
  }
 },
 "nbformat": 4,
 "nbformat_minor": 2
}
