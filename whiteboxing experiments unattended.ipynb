{
 "cells": [
  {
   "cell_type": "markdown",
   "metadata": {},
   "source": [
    "### Prologue\n",
    "Prepare the notebook for inline plotting<br>\n",
    "Load required libraries<br>\n",
    "Create custom functions<br>\n",
    "Load and preprocess data<br>\n",
    "Train a random forest using previously optimized/tuned hyper-parameters"
   ]
  },
  {
   "cell_type": "code",
   "execution_count": 1,
   "metadata": {
    "scrolled": true
   },
   "outputs": [],
   "source": [
    "from IPython.display import Image\n",
    "%matplotlib inline\n",
    "\n",
    "# experimental script\n",
    "import pickle\n",
    "import forest_surveyor.datasets as ds\n",
    "from forest_surveyor.routines import experiment\n",
    "\n",
    "# basic setup for LIME\n",
    "# import lime\n",
    "# import lime.lime_tabular as limtab\n"
   ]
  },
  {
   "cell_type": "code",
   "execution_count": 3,
   "metadata": {
    "scrolled": false
   },
   "outputs": [
    {
     "name": "stdout",
     "output_type": "stream",
     "text": [
      "LOADING NEW DATA SET.\n",
      "\n",
      "Finding best parameters for Random Forest. Checking for prior tuning parameters.\n",
      "\n",
      "Using existing params file. To re-tune, delete file at whiteboxing\\accident_small_samp_pickles\\params.json\n",
      "\n",
      "Best OOB Cohen's Kappa during tuning: 0.8633\n",
      "Best parameters: {'n_estimators': 1500, 'max_depth': 16, 'min_samples_leaf': 1}\n",
      "\n",
      "Training a random forest model using best parameters... (please wait)\n",
      "\n",
      "Done\n",
      "\n",
      "Created helper function enc_model(). A pipeline: feature encoding -> rf model\n",
      "\n",
      "Cohen's Kappa on unseen instances: -0.0049\n",
      "Confusion matrix, without normalization\n",
      "[[  0  95]\n",
      " [  1 314]]\n"
     ]
    },
    {
     "data": {
      "image/png": "[encoded data removed]",
      "text/plain": [
       "<matplotlib.figure.Figure at 0x12ffe0bcdd8>"
      ]
     },
     "metadata": {},
     "output_type": "display_data"
    },
    {
     "name": "stdout",
     "output_type": "stream",
     "text": [
      "Normalized confusion matrix\n",
      "[[0. 1.]\n",
      " [0. 1.]]\n"
     ]
    },
    {
     "data": {
      "image/png": "[encoded data removed]",
      "text/plain": [
       "<matplotlib.figure.Figure at 0x12ff8b15470>"
      ]
     },
     "metadata": {},
     "output_type": "display_data"
    },
    {
     "name": "stdout",
     "output_type": "stream",
     "text": [
      "Precision: [0.0, 0.7677261613691931]\n",
      "Recall: [0.0, 0.9968253968253968]\n",
      "F1 Score: [0.0, 0.867403314917127]\n",
      "Support: [95, 315]\n",
      "NOTE: During run, true divide errors are acceptable.\n",
      "    Returned when a tree does not contain any node for either/both upper and lower bounds of a feature.\n",
      "\n",
      "    \n",
      "Starting new run at: Sun Apr 29 11:13:28 2018 with batch_size = 8 and n_batches = 50...(please wait)\n"
     ]
    },
    {
     "name": "stderr",
     "output_type": "stream",
     "text": [
      "C:\\dev\\study\\python\\interpret_basics2\\forest_surveyor\\structures.py:264: RuntimeWarning: invalid value encountered in true_divide\n",
      "  np.histogram(uppers, upper_bins)[0]).round(5)\n",
      "C:\\dev\\study\\python\\interpret_basics2\\forest_surveyor\\structures.py:268: RuntimeWarning: invalid value encountered in true_divide\n",
      "  np.histogram(lowers, lower_bins)[0]).round(5)\n"
     ]
    },
    {
     "name": "stdout",
     "output_type": "stream",
     "text": [
      "done batch 0\n"
     ]
    },
    {
     "name": "stderr",
     "output_type": "stream",
     "text": [
      "C:\\dev\\study\\python\\interpret_basics2\\forest_surveyor\\structures.py:758: RuntimeWarning: invalid value encountered in true_divide\n",
      "  plaus = ( post * ( counts / idx.sum() ) ) / priors['p_counts']\n",
      "C:\\dev\\study\\python\\interpret_basics2\\forest_surveyor\\structures.py:762: RuntimeWarning: invalid value encountered in true_divide\n",
      "  lift = post / ( ( np.array([idx.sum()]) / np.array([len(idx)]) ) * priors['p_counts'] )\n",
      "C:\\Dev\\Prog\\Anaconda3\\lib\\site-packages\\scipy\\stats\\_distn_infrastructure.py:2508: RuntimeWarning: invalid value encountered in true_divide\n",
      "  pk = 1.0*pk / np.sum(pk, axis=0)\n"
     ]
    },
    {
     "name": "stdout",
     "output_type": "stream",
     "text": [
      "done batch 1\n",
      "done batch 2\n",
      "done batch 3\n",
      "done batch 4\n",
      "done batch 5\n",
      "done batch 6\n",
      "done batch 7\n"
     ]
    },
    {
     "name": "stderr",
     "output_type": "stream",
     "text": [
      "C:\\dev\\study\\python\\interpret_basics2\\forest_surveyor\\structures.py:967: RuntimeWarning: invalid value encountered in less_equal\n",
      "  if current <= previous:\n"
     ]
    },
    {
     "name": "stdout",
     "output_type": "stream",
     "text": [
      "done batch 8\n",
      "done batch 9\n",
      "done batch 10\n",
      "done batch 11\n",
      "done batch 12\n",
      "done batch 13\n",
      "done batch 14\n",
      "done batch 15\n",
      "done batch 16\n",
      "done batch 17\n",
      "done batch 18\n",
      "done batch 19\n",
      "done batch 20\n",
      "done batch 21\n",
      "done batch 22\n",
      "done batch 23\n",
      "done batch 24\n",
      "done batch 25\n",
      "done batch 26\n",
      "done batch 27\n",
      "done batch 28\n",
      "done batch 29\n",
      "done batch 30\n",
      "done batch 31\n",
      "done batch 32\n",
      "done batch 33\n",
      "done batch 34\n",
      "done batch 35\n",
      "done batch 36\n",
      "done batch 37\n",
      "done batch 38\n",
      "done batch 39\n",
      "done batch 40\n",
      "done batch 41\n",
      "done batch 42\n",
      "done batch 43\n",
      "done batch 44\n",
      "done batch 45\n",
      "done batch 46\n",
      "done batch 47\n",
      "done batch 48\n",
      "done batch 49\n",
      "Done. Completed run at: Sun Apr 29 11:40:53 2018. Elapsed time (seconds) = 1644.7985418169442\n",
      "\n",
      "Compiling Training Results...(please wait)\n",
      "Results saved at whiteboxing\\accident_small_samp_pickles\\results.pickle\n",
      "\n",
      "To retrieve results execute the following:\n",
      "results_store = open('whiteboxing\\accident_small_samp_pickles\\results.pickle', \"rb\")\n",
      "results = pickle.load(results_store)\n",
      "results_store.close()\n",
      "\n",
      "\n",
      "LOADING NEW DATA SET.\n",
      "\n",
      "Finding best parameters for Random Forest. Checking for prior tuning parameters.\n",
      "\n",
      "Using existing params file. To re-tune, delete file at whiteboxing\\adult_small_samp_pickles\\params.json\n",
      "\n",
      "Best OOB Cohen's Kappa during tuning: 0.8443\n",
      "Best parameters: {'n_estimators': 500, 'max_depth': 8, 'min_samples_leaf': 1}\n",
      "\n",
      "Training a random forest model using best parameters... (please wait)\n",
      "\n",
      "Done\n",
      "\n",
      "Created helper function enc_model(). A pipeline: feature encoding -> rf model\n",
      "\n",
      "Cohen's Kappa on unseen instances: 0.5002\n",
      "Confusion matrix, without normalization\n",
      "[[273  13]\n",
      " [ 42  39]]\n"
     ]
    },
    {
     "data": {
      "image/png": "[encoded data removed]",
      "text/plain": [
       "<matplotlib.figure.Figure at 0x12fa1a19860>"
      ]
     },
     "metadata": {},
     "output_type": "display_data"
    },
    {
     "name": "stdout",
     "output_type": "stream",
     "text": [
      "Normalized confusion matrix\n",
      "[[0.95 0.05]\n",
      " [0.52 0.48]]\n"
     ]
    },
    {
     "data": {
      "image/png": "[encoded data removed]",
      "text/plain": [
       "<matplotlib.figure.Figure at 0x12f82ff00f0>"
      ]
     },
     "metadata": {},
     "output_type": "display_data"
    },
    {
     "name": "stdout",
     "output_type": "stream",
     "text": [
      "Precision: [0.8666666666666667, 0.75]\n",
      "Recall: [0.9545454545454546, 0.48148148148148145]\n",
      "F1 Score: [0.9084858569051582, 0.5864661654135339]\n",
      "Support: [286, 81]\n",
      "NOTE: During run, true divide errors are acceptable.\n",
      "    Returned when a tree does not contain any node for either/both upper and lower bounds of a feature.\n",
      "\n",
      "    \n",
      "Starting new run at: Sun Apr 29 11:41:36 2018 with batch_size = 7 and n_batches = 50...(please wait)\n"
     ]
    },
    {
     "name": "stderr",
     "output_type": "stream",
     "text": [
      "C:\\dev\\study\\python\\interpret_basics2\\forest_surveyor\\structures.py:268: RuntimeWarning: invalid value encountered in true_divide\n",
      "  np.histogram(lowers, lower_bins)[0]).round(5)\n",
      "C:\\dev\\study\\python\\interpret_basics2\\forest_surveyor\\structures.py:264: RuntimeWarning: invalid value encountered in true_divide\n",
      "  np.histogram(uppers, upper_bins)[0]).round(5)\n"
     ]
    },
    {
     "name": "stdout",
     "output_type": "stream",
     "text": [
      "done batch 0\n",
      "done batch 1\n"
     ]
    },
    {
     "name": "stderr",
     "output_type": "stream",
     "text": [
      "C:\\dev\\study\\python\\interpret_basics2\\forest_surveyor\\structures.py:758: RuntimeWarning: invalid value encountered in true_divide\n",
      "  plaus = ( post * ( counts / idx.sum() ) ) / priors['p_counts']\n",
      "C:\\dev\\study\\python\\interpret_basics2\\forest_surveyor\\structures.py:762: RuntimeWarning: invalid value encountered in true_divide\n",
      "  lift = post / ( ( np.array([idx.sum()]) / np.array([len(idx)]) ) * priors['p_counts'] )\n",
      "C:\\Dev\\Prog\\Anaconda3\\lib\\site-packages\\scipy\\stats\\_distn_infrastructure.py:2508: RuntimeWarning: invalid value encountered in true_divide\n",
      "  pk = 1.0*pk / np.sum(pk, axis=0)\n"
     ]
    },
    {
     "name": "stdout",
     "output_type": "stream",
     "text": [
      "done batch 2\n",
      "done batch 3\n",
      "done batch 4\n",
      "done batch 5\n",
      "done batch 6\n",
      "done batch 7\n",
      "done batch 8\n",
      "done batch 9\n",
      "done batch 10\n",
      "done batch 11\n",
      "done batch 12\n",
      "done batch 13\n",
      "done batch 14\n",
      "done batch 15\n",
      "done batch 16\n",
      "done batch 17\n",
      "done batch 18\n",
      "done batch 19\n",
      "done batch 20\n",
      "done batch 21\n",
      "done batch 22\n",
      "done batch 23\n",
      "done batch 24\n",
      "done batch 25\n",
      "done batch 26\n",
      "done batch 27\n",
      "done batch 28\n",
      "done batch 29\n",
      "done batch 30\n",
      "done batch 31\n",
      "done batch 32\n",
      "done batch 33\n",
      "done batch 34\n",
      "done batch 35\n",
      "done batch 36\n",
      "done batch 37\n",
      "done batch 38\n",
      "done batch 39\n",
      "done batch 40\n",
      "done batch 41\n",
      "done batch 42\n",
      "done batch 43\n",
      "done batch 44\n",
      "done batch 45\n",
      "done batch 46\n",
      "done batch 47\n",
      "done batch 48\n",
      "done batch 49\n",
      "Done. Completed run at: Sun Apr 29 11:54:39 2018. Elapsed time (seconds) = 782.6149560036638\n",
      "\n",
      "Compiling Training Results...(please wait)\n",
      "Results saved at whiteboxing\\adult_small_samp_pickles\\results.pickle\n",
      "\n",
      "To retrieve results execute the following:\n",
      "results_store = open('whiteboxing\\adult_small_samp_pickles\\results.pickle', \"rb\")\n",
      "results = pickle.load(results_store)\n",
      "results_store.close()\n",
      "\n",
      "\n",
      "LOADING NEW DATA SET.\n",
      "\n",
      "Finding best parameters for Random Forest. Checking for prior tuning parameters.\n",
      "\n",
      "Using existing params file. To re-tune, delete file at whiteboxing\\bankmark_samp_pickles\\params.json\n",
      "\n",
      "Best OOB Cohen's Kappa during tuning: 0.9126\n",
      "Best parameters: {'n_estimators': 1500, 'max_depth': 16, 'min_samples_leaf': 1}\n",
      "\n",
      "Training a random forest model using best parameters... (please wait)\n",
      "\n",
      "Done\n",
      "\n",
      "Created helper function enc_model(). A pipeline: feature encoding -> rf model\n",
      "\n",
      "Cohen's Kappa on unseen instances: 0.5411\n",
      "Confusion matrix, without normalization\n",
      "[[544   8]\n",
      " [ 36  30]]\n"
     ]
    },
    {
     "data": {
      "image/png": "[encoded data removed]",
      "text/plain": [
       "<matplotlib.figure.Figure at 0x12f8d29a7b8>"
      ]
     },
     "metadata": {},
     "output_type": "display_data"
    },
    {
     "name": "stdout",
     "output_type": "stream",
     "text": [
      "Normalized confusion matrix\n",
      "[[0.99 0.01]\n",
      " [0.55 0.45]]\n"
     ]
    },
    {
     "data": {
      "image/png": "[encoded data removed]",
      "text/plain": [
       "<matplotlib.figure.Figure at 0x12f8f087898>"
      ]
     },
     "metadata": {},
     "output_type": "display_data"
    },
    {
     "name": "stdout",
     "output_type": "stream",
     "text": [
      "Precision: [0.9379310344827586, 0.7894736842105263]\n",
      "Recall: [0.9855072463768116, 0.45454545454545453]\n",
      "F1 Score: [0.9611307420494699, 0.5769230769230769]\n",
      "Support: [552, 66]\n",
      "NOTE: During run, true divide errors are acceptable.\n",
      "    Returned when a tree does not contain any node for either/both upper and lower bounds of a feature.\n",
      "\n",
      "    \n",
      "Starting new run at: Sun Apr 29 11:55:24 2018 with batch_size = 10 and n_batches = 50...(please wait)\n"
     ]
    },
    {
     "name": "stderr",
     "output_type": "stream",
     "text": [
      "C:\\dev\\study\\python\\interpret_basics2\\forest_surveyor\\structures.py:264: RuntimeWarning: invalid value encountered in true_divide\n",
      "  np.histogram(uppers, upper_bins)[0]).round(5)\n",
      "C:\\dev\\study\\python\\interpret_basics2\\forest_surveyor\\structures.py:268: RuntimeWarning: invalid value encountered in true_divide\n",
      "  np.histogram(lowers, lower_bins)[0]).round(5)\n"
     ]
    },
    {
     "name": "stdout",
     "output_type": "stream",
     "text": [
      "done batch 0\n"
     ]
    },
    {
     "name": "stderr",
     "output_type": "stream",
     "text": [
      "C:\\dev\\study\\python\\interpret_basics2\\forest_surveyor\\structures.py:758: RuntimeWarning: invalid value encountered in true_divide\n",
      "  plaus = ( post * ( counts / idx.sum() ) ) / priors['p_counts']\n",
      "C:\\dev\\study\\python\\interpret_basics2\\forest_surveyor\\structures.py:762: RuntimeWarning: invalid value encountered in true_divide\n",
      "  lift = post / ( ( np.array([idx.sum()]) / np.array([len(idx)]) ) * priors['p_counts'] )\n",
      "C:\\Dev\\Prog\\Anaconda3\\lib\\site-packages\\scipy\\stats\\_distn_infrastructure.py:2508: RuntimeWarning: invalid value encountered in true_divide\n",
      "  pk = 1.0*pk / np.sum(pk, axis=0)\n"
     ]
    },
    {
     "name": "stdout",
     "output_type": "stream",
     "text": [
      "done batch 1\n",
      "done batch 2\n",
      "done batch 3\n",
      "done batch 4\n",
      "done batch 5\n",
      "done batch 6\n",
      "done batch 7\n",
      "done batch 8\n",
      "done batch 9\n",
      "done batch 10\n",
      "done batch 11\n",
      "done batch 12\n",
      "done batch 13\n",
      "done batch 14\n",
      "done batch 15\n",
      "done batch 16\n",
      "done batch 17\n",
      "done batch 18\n",
      "done batch 19\n",
      "done batch 20\n",
      "done batch 21\n",
      "done batch 22\n",
      "done batch 23\n",
      "done batch 24\n",
      "done batch 25\n",
      "done batch 26\n",
      "done batch 27\n",
      "done batch 28\n",
      "done batch 29\n",
      "done batch 30\n",
      "done batch 31\n",
      "done batch 32\n",
      "done batch 33\n",
      "done batch 34\n",
      "done batch 35\n",
      "done batch 36\n",
      "done batch 37\n",
      "done batch 38\n",
      "done batch 39\n",
      "done batch 40\n",
      "done batch 41\n",
      "done batch 42\n",
      "done batch 43\n",
      "done batch 44\n",
      "done batch 45\n",
      "done batch 46\n",
      "done batch 47\n",
      "done batch 48\n",
      "done batch 49\n",
      "Done. Completed run at: Sun Apr 29 12:28:06 2018. Elapsed time (seconds) = 1962.20975617166\n",
      "\n",
      "Compiling Training Results...(please wait)\n",
      "Results saved at whiteboxing\\bankmark_samp_pickles\\results.pickle\n",
      "\n",
      "To retrieve results execute the following:\n",
      "results_store = open('whiteboxing\\bankmark_samp_pickles\\results.pickle', \"rb\")\n",
      "results = pickle.load(results_store)\n",
      "results_store.close()\n",
      "\n",
      "\n",
      "LOADING NEW DATA SET.\n",
      "\n",
      "Finding best parameters for Random Forest. Checking for prior tuning parameters.\n",
      "\n",
      "Using existing params file. To re-tune, delete file at whiteboxing\\car_pickles\\params.json\n",
      "\n",
      "Best OOB Cohen's Kappa during tuning: 0.9843\n",
      "Best parameters: {'n_estimators': 1000, 'max_depth': 16, 'min_samples_leaf': 1}\n",
      "\n",
      "Training a random forest model using best parameters... (please wait)\n",
      "\n",
      "Done\n",
      "\n",
      "Created helper function enc_model(). A pipeline: feature encoding -> rf model\n",
      "\n",
      "Cohen's Kappa on unseen instances: 0.9588\n",
      "Confusion matrix, without normalization\n",
      "[[152   2]\n",
      " [  7 358]]\n"
     ]
    },
    {
     "data": {
      "image/png": "[encoded data removed]",
      "text/plain": [
       "<matplotlib.figure.Figure at 0x12fbfcc0ef0>"
      ]
     },
     "metadata": {},
     "output_type": "display_data"
    },
    {
     "name": "stdout",
     "output_type": "stream",
     "text": [
      "Normalized confusion matrix\n",
      "[[0.99 0.01]\n",
      " [0.02 0.98]]\n"
     ]
    },
    {
     "data": {
      "image/png": "[encoded data removed]",
      "text/plain": [
       "<matplotlib.figure.Figure at 0x12f934050f0>"
      ]
     },
     "metadata": {},
     "output_type": "display_data"
    },
    {
     "name": "stdout",
     "output_type": "stream",
     "text": [
      "Precision: [0.9559748427672956, 0.9944444444444445]\n",
      "Recall: [0.987012987012987, 0.9808219178082191]\n",
      "F1 Score: [0.9712460063897763, 0.9875862068965517]\n",
      "Support: [154, 365]\n",
      "NOTE: During run, true divide errors are acceptable.\n",
      "    Returned when a tree does not contain any node for either/both upper and lower bounds of a feature.\n",
      "\n",
      "    \n",
      "Starting new run at: Sun Apr 29 12:29:00 2018 with batch_size = 10 and n_batches = 50...(please wait)\n"
     ]
    },
    {
     "name": "stderr",
     "output_type": "stream",
     "text": [
      "C:\\dev\\study\\python\\interpret_basics2\\forest_surveyor\\structures.py:758: RuntimeWarning: invalid value encountered in true_divide\n",
      "  plaus = ( post * ( counts / idx.sum() ) ) / priors['p_counts']\n",
      "C:\\dev\\study\\python\\interpret_basics2\\forest_surveyor\\structures.py:762: RuntimeWarning: invalid value encountered in true_divide\n",
      "  lift = post / ( ( np.array([idx.sum()]) / np.array([len(idx)]) ) * priors['p_counts'] )\n",
      "C:\\Dev\\Prog\\Anaconda3\\lib\\site-packages\\scipy\\stats\\_distn_infrastructure.py:2508: RuntimeWarning: invalid value encountered in true_divide\n",
      "  pk = 1.0*pk / np.sum(pk, axis=0)\n",
      "C:\\dev\\study\\python\\interpret_basics2\\forest_surveyor\\structures.py:967: RuntimeWarning: invalid value encountered in less_equal\n",
      "  if current <= previous:\n"
     ]
    },
    {
     "name": "stdout",
     "output_type": "stream",
     "text": [
      "done batch 0\n",
      "done batch 1\n",
      "done batch 2\n",
      "done batch 3\n",
      "done batch 4\n",
      "done batch 5\n",
      "done batch 6\n",
      "done batch 7\n",
      "done batch 8\n",
      "done batch 9\n",
      "done batch 10\n",
      "done batch 11\n",
      "done batch 12\n",
      "done batch 13\n",
      "done batch 14\n",
      "done batch 15\n",
      "done batch 16\n",
      "done batch 17\n",
      "done batch 18\n",
      "done batch 19\n",
      "done batch 20\n",
      "done batch 21\n",
      "done batch 22\n",
      "done batch 23\n",
      "done batch 24\n",
      "done batch 25\n",
      "done batch 26\n",
      "done batch 27\n",
      "done batch 28\n",
      "done batch 29\n",
      "done batch 30\n",
      "done batch 31\n",
      "done batch 32\n",
      "done batch 33\n",
      "done batch 34\n",
      "done batch 35\n",
      "done batch 36\n",
      "done batch 37\n",
      "done batch 38\n",
      "done batch 39\n",
      "done batch 40\n",
      "done batch 41\n",
      "done batch 42\n",
      "done batch 43\n",
      "done batch 44\n",
      "done batch 45\n",
      "done batch 46\n",
      "done batch 47\n",
      "done batch 48\n",
      "done batch 49\n",
      "Done. Completed run at: Sun Apr 29 12:45:38 2018. Elapsed time (seconds) = 997.9805757602007\n",
      "\n",
      "Compiling Training Results...(please wait)\n",
      "Results saved at whiteboxing\\car_pickles\\results.pickle\n",
      "\n",
      "To retrieve results execute the following:\n",
      "results_store = open('whiteboxing\\car_pickles\\results.pickle', \"rb\")\n",
      "results = pickle.load(results_store)\n",
      "results_store.close()\n",
      "\n",
      "\n",
      "LOADING NEW DATA SET.\n",
      "\n",
      "Finding best parameters for Random Forest. Checking for prior tuning parameters.\n",
      "\n",
      "Using existing params file. To re-tune, delete file at whiteboxing\\cardiotography_pickles\\params.json\n",
      "\n",
      "Best OOB Cohen's Kappa during tuning: 0.9462\n",
      "Best parameters: {'n_estimators': 1500, 'max_depth': 16, 'min_samples_leaf': 1}\n",
      "\n",
      "Training a random forest model using best parameters... (please wait)\n",
      "\n",
      "Done\n",
      "\n",
      "No encoder was provided. An encoder is required if not all the data is numerical.\n",
      "\n",
      "Cohen's Kappa on unseen instances: 0.8260\n",
      "Confusion matrix, without normalization\n",
      "[[488   3   6]\n",
      " [  4  49   4]\n",
      " [ 21   1  62]]\n"
     ]
    },
    {
     "data": {
      "image/png": "[encoded data removed]",
      "text/plain": [
       "<matplotlib.figure.Figure at 0x12fa2d08f60>"
      ]
     },
     "metadata": {},
     "output_type": "display_data"
    },
    {
     "name": "stdout",
     "output_type": "stream",
     "text": [
      "Normalized confusion matrix\n",
      "[[0.98 0.01 0.01]\n",
      " [0.07 0.86 0.07]\n",
      " [0.25 0.01 0.74]]\n"
     ]
    },
    {
     "data": {
      "image/png": "[encoded data removed]",
      "text/plain": [
       "<matplotlib.figure.Figure at 0x12ffe00c668>"
      ]
     },
     "metadata": {},
     "output_type": "display_data"
    },
    {
     "name": "stdout",
     "output_type": "stream",
     "text": [
      "Precision: [0.9512670565302144, 0.9245283018867925, 0.8611111111111112]\n",
      "Recall: [0.9818913480885312, 0.8596491228070176, 0.7380952380952381]\n",
      "F1 Score: [0.9663366336633663, 0.8909090909090909, 0.7948717948717949]\n",
      "Support: [497, 57, 84]\n",
      "NOTE: During run, true divide errors are acceptable.\n",
      "    Returned when a tree does not contain any node for either/both upper and lower bounds of a feature.\n",
      "\n",
      "    \n",
      "Starting new run at: Sun Apr 29 12:46:04 2018 with batch_size = 10 and n_batches = 50...(please wait)\n"
     ]
    },
    {
     "name": "stderr",
     "output_type": "stream",
     "text": [
      "C:\\dev\\study\\python\\interpret_basics2\\forest_surveyor\\structures.py:268: RuntimeWarning: invalid value encountered in true_divide\n",
      "  np.histogram(lowers, lower_bins)[0]).round(5)\n",
      "C:\\dev\\study\\python\\interpret_basics2\\forest_surveyor\\structures.py:264: RuntimeWarning: invalid value encountered in true_divide\n",
      "  np.histogram(uppers, upper_bins)[0]).round(5)\n"
     ]
    },
    {
     "name": "stdout",
     "output_type": "stream",
     "text": [
      "done batch 0\n",
      "done batch 1\n",
      "done batch 2\n",
      "done batch 3\n"
     ]
    },
    {
     "name": "stderr",
     "output_type": "stream",
     "text": [
      "C:\\dev\\study\\python\\interpret_basics2\\forest_surveyor\\structures.py:758: RuntimeWarning: invalid value encountered in true_divide\n",
      "  plaus = ( post * ( counts / idx.sum() ) ) / priors['p_counts']\n",
      "C:\\dev\\study\\python\\interpret_basics2\\forest_surveyor\\structures.py:762: RuntimeWarning: invalid value encountered in true_divide\n",
      "  lift = post / ( ( np.array([idx.sum()]) / np.array([len(idx)]) ) * priors['p_counts'] )\n",
      "C:\\Dev\\Prog\\Anaconda3\\lib\\site-packages\\scipy\\stats\\_distn_infrastructure.py:2508: RuntimeWarning: invalid value encountered in true_divide\n",
      "  pk = 1.0*pk / np.sum(pk, axis=0)\n"
     ]
    },
    {
     "name": "stdout",
     "output_type": "stream",
     "text": [
      "done batch 4\n",
      "done batch 5\n",
      "done batch 6\n",
      "done batch 7\n",
      "done batch 8\n",
      "done batch 9\n",
      "done batch 10\n",
      "done batch 11\n",
      "done batch 12\n",
      "done batch 13\n",
      "done batch 14\n",
      "done batch 15\n",
      "done batch 16\n",
      "done batch 17\n",
      "done batch 18\n",
      "done batch 19\n",
      "done batch 20\n",
      "done batch 21\n",
      "done batch 22\n",
      "done batch 23\n",
      "done batch 24\n",
      "done batch 25\n",
      "done batch 26\n",
      "done batch 27\n",
      "done batch 28\n",
      "done batch 29\n",
      "done batch 30\n",
      "done batch 31\n",
      "done batch 32\n",
      "done batch 33\n",
      "done batch 34\n",
      "done batch 35\n",
      "done batch 36\n",
      "done batch 37\n",
      "done batch 38\n",
      "done batch 39\n",
      "done batch 40\n",
      "done batch 41\n",
      "done batch 42\n",
      "done batch 43\n",
      "done batch 44\n",
      "done batch 45\n",
      "done batch 46\n",
      "done batch 47\n",
      "done batch 48\n",
      "done batch 49\n",
      "Done. Completed run at: Sun Apr 29 13:06:58 2018. Elapsed time (seconds) = 1253.1749528178152\n",
      "\n",
      "Compiling Training Results...(please wait)\n",
      "Results saved at whiteboxing\\cardiotography_pickles\\results.pickle\n",
      "\n",
      "To retrieve results execute the following:\n",
      "results_store = open('whiteboxing\\cardiotography_pickles\\results.pickle', \"rb\")\n",
      "results = pickle.load(results_store)\n",
      "results_store.close()\n",
      "\n",
      "\n",
      "LOADING NEW DATA SET.\n",
      "\n",
      "Finding best parameters for Random Forest. Checking for prior tuning parameters.\n",
      "\n",
      "Using existing params file. To re-tune, delete file at whiteboxing\\credit_pickles\\params.json\n",
      "\n",
      "Best OOB Cohen's Kappa during tuning: 0.8675\n",
      "Best parameters: {'n_estimators': 500, 'max_depth': 8, 'min_samples_leaf': 5}\n",
      "\n",
      "Training a random forest model using best parameters... (please wait)\n",
      "\n",
      "Done\n",
      "\n",
      "Created helper function enc_model(). A pipeline: feature encoding -> rf model\n",
      "\n",
      "Cohen's Kappa on unseen instances: 0.7670\n",
      "Confusion matrix, without normalization\n",
      "[[99 10]\n",
      " [14 84]]\n"
     ]
    },
    {
     "data": {
      "image/png": "[encoded data removed]",
      "text/plain": [
       "<matplotlib.figure.Figure at 0x12f91f1b978>"
      ]
     },
     "metadata": {},
     "output_type": "display_data"
    },
    {
     "name": "stdout",
     "output_type": "stream",
     "text": [
      "Normalized confusion matrix\n",
      "[[0.91 0.09]\n",
      " [0.14 0.86]]\n"
     ]
    },
    {
     "data": {
      "image/png": "[encoded data removed]",
      "text/plain": [
       "<matplotlib.figure.Figure at 0x12f87b4def0>"
      ]
     },
     "metadata": {},
     "output_type": "display_data"
    },
    {
     "name": "stdout",
     "output_type": "stream",
     "text": [
      "Precision: [0.8761061946902655, 0.8936170212765957]\n",
      "Recall: [0.908256880733945, 0.8571428571428571]\n",
      "F1 Score: [0.891891891891892, 0.875]\n",
      "Support: [109, 98]\n",
      "NOTE: During run, true divide errors are acceptable.\n",
      "    Returned when a tree does not contain any node for either/both upper and lower bounds of a feature.\n",
      "\n",
      "    \n",
      "Starting new run at: Sun Apr 29 13:07:19 2018 with batch_size = 4 and n_batches = 50...(please wait)\n"
     ]
    },
    {
     "name": "stderr",
     "output_type": "stream",
     "text": [
      "C:\\dev\\study\\python\\interpret_basics2\\forest_surveyor\\structures.py:268: RuntimeWarning: invalid value encountered in true_divide\n",
      "  np.histogram(lowers, lower_bins)[0]).round(5)\n",
      "C:\\dev\\study\\python\\interpret_basics2\\forest_surveyor\\structures.py:264: RuntimeWarning: invalid value encountered in true_divide\n",
      "  np.histogram(uppers, upper_bins)[0]).round(5)\n"
     ]
    },
    {
     "name": "stdout",
     "output_type": "stream",
     "text": [
      "done batch 0\n",
      "done batch 1\n"
     ]
    },
    {
     "name": "stderr",
     "output_type": "stream",
     "text": [
      "C:\\dev\\study\\python\\interpret_basics2\\forest_surveyor\\structures.py:758: RuntimeWarning: invalid value encountered in true_divide\n",
      "  plaus = ( post * ( counts / idx.sum() ) ) / priors['p_counts']\n",
      "C:\\dev\\study\\python\\interpret_basics2\\forest_surveyor\\structures.py:762: RuntimeWarning: invalid value encountered in true_divide\n",
      "  lift = post / ( ( np.array([idx.sum()]) / np.array([len(idx)]) ) * priors['p_counts'] )\n",
      "C:\\Dev\\Prog\\Anaconda3\\lib\\site-packages\\scipy\\stats\\_distn_infrastructure.py:2508: RuntimeWarning: invalid value encountered in true_divide\n",
      "  pk = 1.0*pk / np.sum(pk, axis=0)\n"
     ]
    },
    {
     "name": "stdout",
     "output_type": "stream",
     "text": [
      "done batch 2\n",
      "done batch 3\n",
      "done batch 4\n",
      "done batch 5\n",
      "done batch 6\n",
      "done batch 7\n",
      "done batch 8\n",
      "done batch 9\n",
      "done batch 10\n",
      "done batch 11\n",
      "done batch 12\n",
      "done batch 13\n",
      "done batch 14\n",
      "done batch 15\n",
      "done batch 16\n",
      "done batch 17\n",
      "done batch 18\n",
      "done batch 19\n",
      "done batch 20\n",
      "done batch 21\n",
      "done batch 22\n",
      "done batch 23\n",
      "done batch 24\n",
      "done batch 25\n",
      "done batch 26\n",
      "done batch 27\n",
      "done batch 28\n",
      "done batch 29\n",
      "done batch 30\n",
      "done batch 31\n",
      "done batch 32\n",
      "done batch 33\n",
      "done batch 34\n",
      "done batch 35\n",
      "done batch 36\n",
      "done batch 37\n",
      "done batch 38\n",
      "done batch 39\n",
      "done batch 40\n",
      "done batch 41\n",
      "done batch 42\n",
      "done batch 43\n",
      "done batch 44\n",
      "done batch 45\n",
      "done batch 46\n",
      "done batch 47\n",
      "done batch 48\n",
      "done batch 49\n",
      "Done. Completed run at: Sun Apr 29 13:10:40 2018. Elapsed time (seconds) = 200.04562210486802\n",
      "\n",
      "Compiling Training Results...(please wait)\n",
      "Results saved at whiteboxing\\credit_pickles\\results.pickle\n",
      "\n",
      "To retrieve results execute the following:\n",
      "results_store = open('whiteboxing\\credit_pickles\\results.pickle', \"rb\")\n",
      "results = pickle.load(results_store)\n",
      "results_store.close()\n",
      "\n",
      "\n",
      "LOADING NEW DATA SET.\n",
      "\n",
      "Finding best parameters for Random Forest. Checking for prior tuning parameters.\n",
      "\n",
      "Using existing params file. To re-tune, delete file at whiteboxing\\german_pickles\\params.json\n",
      "\n",
      "Best OOB Cohen's Kappa during tuning: 0.7571\n",
      "Best parameters: {'n_estimators': 1000, 'max_depth': 16, 'min_samples_leaf': 1}\n",
      "\n",
      "Training a random forest model using best parameters... (please wait)\n",
      "\n",
      "Done\n",
      "\n",
      "Created helper function enc_model(). A pipeline: feature encoding -> rf model\n",
      "\n",
      "Cohen's Kappa on unseen instances: 0.3626\n",
      "Confusion matrix, without normalization\n",
      "[[ 39  61]\n",
      " [ 14 186]]\n"
     ]
    },
    {
     "data": {
      "image/png": "[encoded data removed]",
      "text/plain": [
       "<matplotlib.figure.Figure at 0x12f8327edd8>"
      ]
     },
     "metadata": {},
     "output_type": "display_data"
    },
    {
     "name": "stdout",
     "output_type": "stream",
     "text": [
      "Normalized confusion matrix\n",
      "[[0.39 0.61]\n",
      " [0.07 0.93]]\n"
     ]
    },
    {
     "data": {
      "image/png": "[encoded data removed]",
      "text/plain": [
       "<matplotlib.figure.Figure at 0x12f9fdc3d68>"
      ]
     },
     "metadata": {},
     "output_type": "display_data"
    },
    {
     "name": "stdout",
     "output_type": "stream",
     "text": [
      "Precision: [0.7358490566037735, 0.7530364372469636]\n",
      "Recall: [0.39, 0.93]\n",
      "F1 Score: [0.5098039215686275, 0.8322147651006713]\n",
      "Support: [100, 200]\n",
      "NOTE: During run, true divide errors are acceptable.\n",
      "    Returned when a tree does not contain any node for either/both upper and lower bounds of a feature.\n",
      "\n",
      "    \n",
      "Starting new run at: Sun Apr 29 13:10:56 2018 with batch_size = 6 and n_batches = 50...(please wait)\n"
     ]
    },
    {
     "name": "stderr",
     "output_type": "stream",
     "text": [
      "C:\\dev\\study\\python\\interpret_basics2\\forest_surveyor\\structures.py:264: RuntimeWarning: invalid value encountered in true_divide\n",
      "  np.histogram(uppers, upper_bins)[0]).round(5)\n",
      "C:\\dev\\study\\python\\interpret_basics2\\forest_surveyor\\structures.py:268: RuntimeWarning: invalid value encountered in true_divide\n",
      "  np.histogram(lowers, lower_bins)[0]).round(5)\n",
      "C:\\dev\\study\\python\\interpret_basics2\\forest_surveyor\\structures.py:758: RuntimeWarning: invalid value encountered in true_divide\n",
      "  plaus = ( post * ( counts / idx.sum() ) ) / priors['p_counts']\n",
      "C:\\dev\\study\\python\\interpret_basics2\\forest_surveyor\\structures.py:762: RuntimeWarning: invalid value encountered in true_divide\n",
      "  lift = post / ( ( np.array([idx.sum()]) / np.array([len(idx)]) ) * priors['p_counts'] )\n",
      "C:\\Dev\\Prog\\Anaconda3\\lib\\site-packages\\scipy\\stats\\_distn_infrastructure.py:2508: RuntimeWarning: invalid value encountered in true_divide\n",
      "  pk = 1.0*pk / np.sum(pk, axis=0)\n"
     ]
    },
    {
     "name": "stdout",
     "output_type": "stream",
     "text": [
      "done batch 0\n"
     ]
    },
    {
     "name": "stderr",
     "output_type": "stream",
     "text": [
      "C:\\dev\\study\\python\\interpret_basics2\\forest_surveyor\\structures.py:967: RuntimeWarning: invalid value encountered in less_equal\n",
      "  if current <= previous:\n"
     ]
    },
    {
     "name": "stdout",
     "output_type": "stream",
     "text": [
      "done batch 1\n",
      "done batch 2\n",
      "done batch 3\n",
      "done batch 4\n",
      "done batch 5\n",
      "done batch 6\n",
      "done batch 7\n",
      "done batch 8\n",
      "done batch 9\n",
      "done batch 10\n",
      "done batch 11\n",
      "done batch 12\n",
      "done batch 13\n",
      "done batch 14\n",
      "done batch 15\n",
      "done batch 16\n",
      "done batch 17\n",
      "done batch 18\n",
      "done batch 19\n",
      "done batch 20\n",
      "done batch 21\n",
      "done batch 22\n",
      "done batch 23\n",
      "done batch 24\n",
      "done batch 25\n",
      "done batch 26\n",
      "done batch 27\n",
      "done batch 28\n",
      "done batch 29\n",
      "done batch 30\n",
      "done batch 31\n",
      "done batch 32\n",
      "done batch 33\n",
      "done batch 34\n",
      "done batch 35\n",
      "done batch 36\n",
      "done batch 37\n",
      "done batch 38\n",
      "done batch 39\n",
      "done batch 40\n",
      "done batch 41\n",
      "done batch 42\n",
      "done batch 43\n",
      "done batch 44\n",
      "done batch 45\n",
      "done batch 46\n",
      "done batch 47\n",
      "done batch 48\n",
      "done batch 49\n",
      "Done. Completed run at: Sun Apr 29 13:23:49 2018. Elapsed time (seconds) = 773.1138066755866\n",
      "\n",
      "Compiling Training Results...(please wait)\n",
      "Results saved at whiteboxing\\german_pickles\\results.pickle\n",
      "\n",
      "To retrieve results execute the following:\n",
      "results_store = open('whiteboxing\\german_pickles\\results.pickle', \"rb\")\n",
      "results = pickle.load(results_store)\n",
      "results_store.close()\n",
      "\n",
      "\n",
      "LOADING NEW DATA SET.\n",
      "\n",
      "Finding best parameters for Random Forest. Checking for prior tuning parameters.\n",
      "\n",
      "Using existing params file. To re-tune, delete file at whiteboxing\\lending_tiny_samp_pickles\\params.json\n",
      "\n",
      "Best OOB Cohen's Kappa during tuning: 0.9424\n",
      "Best parameters: {'n_estimators': 500, 'max_depth': 16, 'min_samples_leaf': 1}\n",
      "\n",
      "Training a random forest model using best parameters... (please wait)\n",
      "\n",
      "Done\n",
      "\n",
      "Created helper function enc_model(). A pipeline: feature encoding -> rf model\n",
      "\n",
      "Cohen's Kappa on unseen instances: 0.8181\n",
      "Confusion matrix, without normalization\n",
      "[[ 90  31]\n",
      " [  1 489]]\n"
     ]
    },
    {
     "data": {
      "image/png": "[encoded data removed]",
      "text/plain": [
       "<matplotlib.figure.Figure at 0x12f994cae80>"
      ]
     },
     "metadata": {},
     "output_type": "display_data"
    },
    {
     "name": "stdout",
     "output_type": "stream",
     "text": [
      "Normalized confusion matrix\n",
      "[[0.74 0.26]\n",
      " [0.   1.  ]]\n"
     ]
    },
    {
     "data": {
      "image/png": "[encoded data removed]",
      "text/plain": [
       "<matplotlib.figure.Figure at 0x12ffe00c048>"
      ]
     },
     "metadata": {},
     "output_type": "display_data"
    },
    {
     "name": "stdout",
     "output_type": "stream",
     "text": [
      "Precision: [0.989010989010989, 0.9403846153846154]\n",
      "Recall: [0.743801652892562, 0.9979591836734694]\n",
      "F1 Score: [0.8490566037735849, 0.9683168316831683]\n",
      "Support: [121, 490]\n",
      "NOTE: During run, true divide errors are acceptable.\n",
      "    Returned when a tree does not contain any node for either/both upper and lower bounds of a feature.\n",
      "\n",
      "    \n",
      "Starting new run at: Sun Apr 29 13:24:14 2018 with batch_size = 10 and n_batches = 50...(please wait)\n"
     ]
    },
    {
     "name": "stderr",
     "output_type": "stream",
     "text": [
      "C:\\dev\\study\\python\\interpret_basics2\\forest_surveyor\\structures.py:264: RuntimeWarning: invalid value encountered in true_divide\n",
      "  np.histogram(uppers, upper_bins)[0]).round(5)\n",
      "C:\\dev\\study\\python\\interpret_basics2\\forest_surveyor\\structures.py:268: RuntimeWarning: invalid value encountered in true_divide\n",
      "  np.histogram(lowers, lower_bins)[0]).round(5)\n"
     ]
    },
    {
     "name": "stdout",
     "output_type": "stream",
     "text": [
      "done batch 0\n",
      "done batch 1\n",
      "done batch 2\n",
      "done batch 3\n",
      "done batch 4\n",
      "done batch 5\n",
      "done batch 6\n",
      "done batch 7\n",
      "done batch 8\n",
      "done batch 9\n",
      "done batch 10\n",
      "done batch 11\n",
      "done batch 12\n",
      "done batch 13\n",
      "done batch 14\n",
      "done batch 15\n",
      "done batch 16\n",
      "done batch 17\n",
      "done batch 18\n",
      "done batch 19\n",
      "done batch 20\n",
      "done batch 21\n",
      "done batch 22\n",
      "done batch 23\n"
     ]
    },
    {
     "name": "stderr",
     "output_type": "stream",
     "text": [
      "C:\\dev\\study\\python\\interpret_basics2\\forest_surveyor\\structures.py:758: RuntimeWarning: invalid value encountered in true_divide\n",
      "  plaus = ( post * ( counts / idx.sum() ) ) / priors['p_counts']\n",
      "C:\\dev\\study\\python\\interpret_basics2\\forest_surveyor\\structures.py:762: RuntimeWarning: invalid value encountered in true_divide\n",
      "  lift = post / ( ( np.array([idx.sum()]) / np.array([len(idx)]) ) * priors['p_counts'] )\n",
      "C:\\Dev\\Prog\\Anaconda3\\lib\\site-packages\\scipy\\stats\\_distn_infrastructure.py:2508: RuntimeWarning: invalid value encountered in true_divide\n",
      "  pk = 1.0*pk / np.sum(pk, axis=0)\n",
      "C:\\dev\\study\\python\\interpret_basics2\\forest_surveyor\\structures.py:967: RuntimeWarning: invalid value encountered in less_equal\n",
      "  if current <= previous:\n"
     ]
    },
    {
     "name": "stdout",
     "output_type": "stream",
     "text": [
      "done batch 24\n",
      "done batch 25\n",
      "done batch 26\n",
      "done batch 27\n",
      "done batch 28\n",
      "done batch 29\n",
      "done batch 30\n",
      "done batch 31\n",
      "done batch 32\n",
      "done batch 33\n",
      "done batch 34\n",
      "done batch 35\n",
      "done batch 36\n",
      "done batch 37\n",
      "done batch 38\n",
      "done batch 39\n",
      "done batch 40\n",
      "done batch 41\n",
      "done batch 42\n",
      "done batch 43\n",
      "done batch 44\n",
      "done batch 45\n",
      "done batch 46\n",
      "done batch 47\n",
      "done batch 48\n",
      "done batch 49\n",
      "Done. Completed run at: Sun Apr 29 13:36:08 2018. Elapsed time (seconds) = 714.067921409689\n",
      "\n",
      "Compiling Training Results...(please wait)\n",
      "Results saved at whiteboxing\\lending_tiny_samp_pickles\\results.pickle\n",
      "\n",
      "To retrieve results execute the following:\n",
      "results_store = open('whiteboxing\\lending_tiny_samp_pickles\\results.pickle', \"rb\")\n",
      "results = pickle.load(results_store)\n",
      "results_store.close()\n",
      "\n",
      "\n",
      "LOADING NEW DATA SET.\n",
      "\n",
      "Finding best parameters for Random Forest. Checking for prior tuning parameters.\n",
      "\n",
      "Using existing params file. To re-tune, delete file at whiteboxing\\nursery_samp_pickles\\params.json\n",
      "\n",
      "Best OOB Cohen's Kappa during tuning: 0.9625\n",
      "Best parameters: {'n_estimators': 500, 'max_depth': 16, 'min_samples_leaf': 1}\n",
      "\n",
      "Training a random forest model using best parameters... (please wait)\n",
      "\n",
      "Done\n",
      "\n",
      "Created helper function enc_model(). A pipeline: feature encoding -> rf model\n",
      "\n",
      "Cohen's Kappa on unseen instances: 0.9338\n",
      "Confusion matrix, without normalization\n",
      "[[253   0   0   0]\n",
      " [  0 240  15   0]\n",
      " [  0   8 240   0]\n",
      " [  0  12   0  10]]\n"
     ]
    },
    {
     "data": {
      "image/png": "[encoded data removed]",
      "text/plain": [
       "<matplotlib.figure.Figure at 0x12fea507eb8>"
      ]
     },
     "metadata": {},
     "output_type": "display_data"
    },
    {
     "name": "stdout",
     "output_type": "stream",
     "text": [
      "Normalized confusion matrix\n",
      "[[1.   0.   0.   0.  ]\n",
      " [0.   0.94 0.06 0.  ]\n",
      " [0.   0.03 0.97 0.  ]\n",
      " [0.   0.55 0.   0.45]]\n"
     ]
    },
    {
     "data": {
      "image/png": "[encoded data removed]",
      "text/plain": [
       "<matplotlib.figure.Figure at 0x12fd3407a90>"
      ]
     },
     "metadata": {},
     "output_type": "display_data"
    },
    {
     "name": "stdout",
     "output_type": "stream",
     "text": [
      "Precision: [1.0, 0.9230769230769231, 0.9411764705882353, 1.0]\n",
      "Recall: [1.0, 0.9411764705882353, 0.967741935483871, 0.45454545454545453]\n",
      "F1 Score: [1.0, 0.9320388349514563, 0.9542743538767396, 0.625]\n",
      "Support: [253, 255, 248, 22]\n",
      "NOTE: During run, true divide errors are acceptable.\n",
      "    Returned when a tree does not contain any node for either/both upper and lower bounds of a feature.\n",
      "\n",
      "    \n",
      "Starting new run at: Sun Apr 29 13:37:02 2018 with batch_size = 10 and n_batches = 50...(please wait)\n",
      "done batch 0\n"
     ]
    },
    {
     "name": "stderr",
     "output_type": "stream",
     "text": [
      "C:\\dev\\study\\python\\interpret_basics2\\forest_surveyor\\structures.py:758: RuntimeWarning: invalid value encountered in true_divide\n",
      "  plaus = ( post * ( counts / idx.sum() ) ) / priors['p_counts']\n",
      "C:\\dev\\study\\python\\interpret_basics2\\forest_surveyor\\structures.py:762: RuntimeWarning: invalid value encountered in true_divide\n",
      "  lift = post / ( ( np.array([idx.sum()]) / np.array([len(idx)]) ) * priors['p_counts'] )\n",
      "C:\\Dev\\Prog\\Anaconda3\\lib\\site-packages\\scipy\\stats\\_distn_infrastructure.py:2508: RuntimeWarning: invalid value encountered in true_divide\n",
      "  pk = 1.0*pk / np.sum(pk, axis=0)\n"
     ]
    },
    {
     "name": "stdout",
     "output_type": "stream",
     "text": [
      "done batch 1\n"
     ]
    },
    {
     "name": "stderr",
     "output_type": "stream",
     "text": [
      "C:\\dev\\study\\python\\interpret_basics2\\forest_surveyor\\structures.py:967: RuntimeWarning: invalid value encountered in less_equal\n",
      "  if current <= previous:\n"
     ]
    },
    {
     "name": "stdout",
     "output_type": "stream",
     "text": [
      "done batch 2\n",
      "done batch 3\n",
      "done batch 4\n",
      "done batch 5\n",
      "done batch 6\n",
      "done batch 7\n",
      "done batch 8\n",
      "done batch 9\n",
      "done batch 10\n",
      "done batch 11\n",
      "done batch 12\n",
      "done batch 13\n",
      "done batch 14\n",
      "done batch 15\n",
      "done batch 16\n",
      "done batch 17\n",
      "done batch 18\n",
      "done batch 19\n",
      "done batch 20\n",
      "done batch 21\n",
      "done batch 22\n",
      "done batch 23\n",
      "done batch 24\n",
      "done batch 25\n",
      "done batch 26\n",
      "done batch 27\n",
      "done batch 28\n",
      "done batch 29\n",
      "done batch 30\n",
      "done batch 31\n",
      "done batch 32\n",
      "done batch 33\n",
      "done batch 34\n",
      "done batch 35\n",
      "done batch 36\n",
      "done batch 37\n",
      "done batch 38\n",
      "done batch 39\n",
      "done batch 40\n",
      "done batch 41\n",
      "done batch 42\n",
      "done batch 43\n",
      "done batch 44\n",
      "done batch 45\n",
      "done batch 46\n",
      "done batch 47\n",
      "done batch 48\n",
      "done batch 49\n",
      "Done. Completed run at: Sun Apr 29 14:01:31 2018. Elapsed time (seconds) = 1468.899773418767\n",
      "\n",
      "Compiling Training Results...(please wait)\n",
      "Results saved at whiteboxing\\nursery_samp_pickles\\results.pickle\n",
      "\n",
      "To retrieve results execute the following:\n",
      "results_store = open('whiteboxing\\nursery_samp_pickles\\results.pickle', \"rb\")\n",
      "results = pickle.load(results_store)\n",
      "results_store.close()\n",
      "\n",
      "\n",
      "LOADING NEW DATA SET.\n",
      "\n",
      "Finding best parameters for Random Forest. Checking for prior tuning parameters.\n",
      "\n",
      "Using existing params file. To re-tune, delete file at whiteboxing\\rcdv_samp_pickles\\params.json\n",
      "\n",
      "Best OOB Cohen's Kappa during tuning: 0.8748\n",
      "Best parameters: {'n_estimators': 1500, 'max_depth': 16, 'min_samples_leaf': 1}\n",
      "\n",
      "Training a random forest model using best parameters... (please wait)\n",
      "\n",
      "Done\n",
      "\n",
      "No encoder was provided. An encoder is required if not all the data is numerical.\n",
      "\n",
      "Cohen's Kappa on unseen instances: 0.1857\n",
      "Confusion matrix, without normalization\n",
      "[[286  68]\n",
      " [135  78]]\n"
     ]
    },
    {
     "data": {
      "image/png": "[encoded data removed]",
      "text/plain": [
       "<matplotlib.figure.Figure at 0x12fad085f98>"
      ]
     },
     "metadata": {},
     "output_type": "display_data"
    },
    {
     "name": "stdout",
     "output_type": "stream",
     "text": [
      "Normalized confusion matrix\n",
      "[[0.81 0.19]\n",
      " [0.63 0.37]]\n"
     ]
    },
    {
     "data": {
      "image/png": "[encoded data removed]",
      "text/plain": [
       "<matplotlib.figure.Figure at 0x12f983c9f60>"
      ]
     },
     "metadata": {},
     "output_type": "display_data"
    },
    {
     "name": "stdout",
     "output_type": "stream",
     "text": [
      "Precision: [0.6793349168646081, 0.5342465753424658]\n",
      "Recall: [0.807909604519774, 0.36619718309859156]\n",
      "F1 Score: [0.7380645161290323, 0.43454038997214484]\n",
      "Support: [354, 213]\n",
      "NOTE: During run, true divide errors are acceptable.\n",
      "    Returned when a tree does not contain any node for either/both upper and lower bounds of a feature.\n",
      "\n",
      "    \n",
      "Starting new run at: Sun Apr 29 14:02:20 2018 with batch_size = 10 and n_batches = 50...(please wait)\n"
     ]
    },
    {
     "name": "stderr",
     "output_type": "stream",
     "text": [
      "C:\\dev\\study\\python\\interpret_basics2\\forest_surveyor\\structures.py:264: RuntimeWarning: invalid value encountered in true_divide\n",
      "  np.histogram(uppers, upper_bins)[0]).round(5)\n",
      "C:\\dev\\study\\python\\interpret_basics2\\forest_surveyor\\structures.py:268: RuntimeWarning: invalid value encountered in true_divide\n",
      "  np.histogram(lowers, lower_bins)[0]).round(5)\n",
      "C:\\dev\\study\\python\\interpret_basics2\\forest_surveyor\\structures.py:758: RuntimeWarning: invalid value encountered in true_divide\n",
      "  plaus = ( post * ( counts / idx.sum() ) ) / priors['p_counts']\n",
      "C:\\dev\\study\\python\\interpret_basics2\\forest_surveyor\\structures.py:762: RuntimeWarning: invalid value encountered in true_divide\n",
      "  lift = post / ( ( np.array([idx.sum()]) / np.array([len(idx)]) ) * priors['p_counts'] )\n",
      "C:\\Dev\\Prog\\Anaconda3\\lib\\site-packages\\scipy\\stats\\_distn_infrastructure.py:2508: RuntimeWarning: invalid value encountered in true_divide\n",
      "  pk = 1.0*pk / np.sum(pk, axis=0)\n",
      "C:\\dev\\study\\python\\interpret_basics2\\forest_surveyor\\structures.py:967: RuntimeWarning: invalid value encountered in less_equal\n",
      "  if current <= previous:\n"
     ]
    },
    {
     "name": "stdout",
     "output_type": "stream",
     "text": [
      "done batch 0\n",
      "done batch 1\n",
      "done batch 2\n",
      "done batch 3\n",
      "done batch 4\n",
      "done batch 5\n",
      "done batch 6\n",
      "done batch 7\n",
      "done batch 8\n",
      "done batch 9\n",
      "done batch 10\n",
      "done batch 11\n",
      "done batch 12\n",
      "done batch 13\n",
      "done batch 14\n",
      "done batch 15\n",
      "done batch 16\n",
      "done batch 17\n",
      "done batch 18\n",
      "done batch 19\n",
      "done batch 20\n",
      "done batch 21\n",
      "done batch 22\n",
      "done batch 23\n",
      "done batch 24\n",
      "done batch 25\n",
      "done batch 26\n",
      "done batch 27\n",
      "done batch 28\n",
      "done batch 29\n",
      "done batch 30\n",
      "done batch 31\n",
      "done batch 32\n",
      "done batch 33\n",
      "done batch 34\n",
      "done batch 35\n",
      "done batch 36\n",
      "done batch 37\n",
      "done batch 38\n",
      "done batch 39\n",
      "done batch 40\n",
      "done batch 41\n",
      "done batch 42\n",
      "done batch 43\n",
      "done batch 44\n",
      "done batch 45\n",
      "done batch 46\n",
      "done batch 47\n",
      "done batch 48\n",
      "done batch 49\n",
      "Done. Completed run at: Sun Apr 29 15:09:57 2018. Elapsed time (seconds) = 4056.863980645143\n",
      "\n",
      "Compiling Training Results...(please wait)\n",
      "Results saved at whiteboxing\\rcdv_samp_pickles\\results.pickle\n",
      "\n",
      "To retrieve results execute the following:\n",
      "results_store = open('whiteboxing\\rcdv_samp_pickles\\results.pickle', \"rb\")\n",
      "results = pickle.load(results_store)\n",
      "results_store.close()\n",
      "\n",
      "\n"
     ]
    }
   ],
   "source": [
    "alpha_scores = 0.75\n",
    "for dataset in [\n",
    "                ds.accident_small_samp_data,\n",
    "                ds.adult_small_samp_data,\n",
    "                ds.bankmark_samp_data,\n",
    "                ds.car_data,\n",
    "                ds.cardiotography_data,\n",
    "                ds.credit_data,\n",
    "                ds.german_data,\n",
    "                ds.lending_tiny_samp_data,\n",
    "                ds.nursery_samp_data,\n",
    "                ds.rcdv_samp_data\n",
    "               ]:\n",
    "\n",
    "# for dataset in [ds.rcdv_samp_data]:\n",
    "    rule_acc, results, output_df = experiment(dataset,\n",
    "                    n_instances=500,\n",
    "                    n_batches=50,\n",
    "                    support_paths=0.05,\n",
    "                    alpha_paths=0.6,\n",
    "                    alpha_scores=alpha_scores,\n",
    "                    which_trees='majority',\n",
    "                    eval_model=True\n",
    "                     #, output_results=True\n",
    "                        )"
   ]
  },
  {
   "cell_type": "markdown",
   "metadata": {},
   "source": [
    "# LIME"
   ]
  },
  {
   "cell_type": "code",
   "execution_count": 12,
   "metadata": {
    "scrolled": false
   },
   "outputs": [
    {
     "name": "stderr",
     "output_type": "stream",
     "text": [
      "C:\\Dev\\Prog\\Anaconda3\\lib\\site-packages\\sklearn\\utils\\validation.py:475: DataConversionWarning: Data with input dtype int64 was converted to float64 by StandardScaler.\n",
      "  warnings.warn(msg, DataConversionWarning)\n"
     ]
    },
    {
     "ename": "NameError",
     "evalue": "name 'rf' is not defined",
     "output_type": "error",
     "traceback": [
      "\u001b[1;31m---------------------------------------------------------------------------\u001b[0m",
      "\u001b[1;31mNameError\u001b[0m                                 Traceback (most recent call last)",
      "\u001b[1;32m<ipython-input-12-1910feac48d5>\u001b[0m in \u001b[0;36m<module>\u001b[1;34m()\u001b[0m\n\u001b[0;32m     24\u001b[0m \u001b[1;31m# exp = explainer.explain_instance(np.array(encoder.transform(batch[instance:instance+1]).todense())[0]\u001b[0m\u001b[1;33m\u001b[0m\u001b[1;33m\u001b[0m\u001b[0m\n\u001b[0;32m     25\u001b[0m exp = explainer.explain_instance(np.array(instance)[0]\n\u001b[1;32m---> 26\u001b[1;33m                                  \u001b[1;33m,\u001b[0m \u001b[0mrf\u001b[0m\u001b[1;33m.\u001b[0m\u001b[0mpredict_proba\u001b[0m\u001b[1;33m\u001b[0m\u001b[0m\n\u001b[0m\u001b[0;32m     27\u001b[0m                                  , top_labels=4)\n",
      "\u001b[1;31mNameError\u001b[0m: name 'rf' is not defined"
     ]
    }
   ],
   "source": [
    "import numpy as np\n",
    "mydata=dataset()\n",
    "tt = mydata.tt_split()\n",
    "\n",
    "np.random.seed(mydata.random_state)\n",
    "\n",
    "explainer = limtab.LimeTabularExplainer(training_data=np.array(tt['X_train'].todense())\n",
    "                                        , feature_names=mydata.onehot_features\n",
    "                                        , training_labels=['y_train']\n",
    "                                        , class_names=mydata.class_names\n",
    "                                        , categorical_features=mydata.categorical_features\n",
    "                                        , categorical_names=mydata.onehot_features\n",
    "                                        , mode='classification'\n",
    "                                        , discretize_continuous=False\n",
    "                                        , verbose=False)\n",
    "\n",
    "if tt['encoder'] is None:\n",
    "    instance = tt['X_test'][0:1]\n",
    "else:\n",
    "    instance = tt['encoder'].transform(tt['X_test'][0:1]).todense()\n",
    "\n",
    "# exp = explainer.explain_instance(np.array(encoder.transform(batch[instance:instance+1]).todense())[0]\n",
    "exp = explainer.explain_instance(np.array(instance)[0]\n",
    "                                 , enc_model.predict_proba\n",
    "                                 , top_labels=4)"
   ]
  },
  {
   "cell_type": "markdown",
   "metadata": {},
   "source": [
    "# Part 1. Local Explanations\n",
    "## Analysis of decision paths for individual unseen instances in a random forest model\n",
    "* Frequent Pattern Mining of decision paths\n",
    "* Rule Compression of decision paths"
   ]
  },
  {
   "cell_type": "code",
   "execution_count": null,
   "metadata": {
    "scrolled": false
   },
   "outputs": [],
   "source": [
    "from forest_surveyor.plotting import rule_profile_plots\n",
    "i = 4\n",
    "alpha_scores = 0.75\n",
    "rule_profile_plots(rule_acc[i], ds.rcdv_samp_data().class_names, ig=False, cp=True, alpha_scores=alpha_scores)\n",
    "\n",
    "[results[i][ra].pruned_rule for ra in range(6)]\n",
    "[results[r][ra].pruned_rule for r in range(len(results)) for ra in range(3)]"
   ]
  },
  {
   "cell_type": "markdown",
   "metadata": {},
   "source": [
    "# Part 2. Global Explanations\n",
    "## Statistical Analysis of a random forest model using data batches\n",
    "* Inductive Properties are based on the training data\n",
    "* Transductive Properties are based on the test (held out) data\n",
    "* In both cases, the whole dataset is passed into the model and statistics are gathered about how frequently the features are visited.\n",
    "\n",
    "* OOB data (to do)"
   ]
  },
  {
   "cell_type": "code",
   "execution_count": null,
   "metadata": {
    "scrolled": false
   },
   "outputs": [],
   "source": [
    "# run the full forest survey\n",
    "tt_correct_stats, tt_incorrect_stats = cor_incor_forest_survey(\n",
    " f_walker = f_walker, X=tt['X_test'], y=tt['y_test'])"
   ]
  },
  {
   "cell_type": "code",
   "execution_count": null,
   "metadata": {},
   "outputs": [],
   "source": [
    "plot_mean_path_lengths(forest_stats=tt_correct_stats, class_names=mydata.class_names)\n",
    "plot_mean_path_lengths(forest_stats=tt_incorrect_stats, class_names=mydata.class_names)"
   ]
  },
  {
   "cell_type": "code",
   "execution_count": null,
   "metadata": {},
   "outputs": [],
   "source": [
    "plot_varimp(rf, mydata.onehot_features)\n",
    "plot_feature_stats(tt_correct_stats, 'p_root_traversals', mydata.class_names, mydata.onehot_features)\n",
    "plot_feature_stats(tt_correct_stats, 'p_child_traversals', mydata.class_names, mydata.onehot_features)\n",
    "plot_feature_stats(tt_correct_stats, 'p_lower_traversals', mydata.class_names, mydata.onehot_features)"
   ]
  },
  {
   "cell_type": "code",
   "execution_count": null,
   "metadata": {
    "scrolled": false
   },
   "outputs": [],
   "source": [
    "log_ratio = log_ratio_plot(num = tt_correct_stats[0]['m_child_traversals']\n",
    "                            , num_err = tt_correct_stats[0]['se_child_traversals']\n",
    "                            , denom = tt_incorrect_stats[0]['m_child_traversals']\n",
    "                            , denom_err = tt_incorrect_stats[0]['se_child_traversals']\n",
    "                            , labels = mydata.onehot_features\n",
    ")\n",
    "log_ratio = log_ratio_plot(num = tt_correct_stats[0]['m_lower_traversals']\n",
    "                            , num_err = tt_correct_stats[0]['se_lower_traversals']\n",
    "                            , denom = tt_incorrect_stats[0]['m_lower_traversals']\n",
    "                            , denom_err = tt_incorrect_stats[0]['se_lower_traversals']\n",
    "                            , labels = mydata.onehot_features\n",
    ")"
   ]
  },
  {
   "cell_type": "markdown",
   "metadata": {},
   "source": [
    "# Part 3. Other Demos"
   ]
  },
  {
   "cell_type": "markdown",
   "metadata": {},
   "source": [
    "## treeinterpreter - local explanations from conditional probabilities"
   ]
  },
  {
   "cell_type": "code",
   "execution_count": null,
   "metadata": {
    "scrolled": false
   },
   "outputs": [],
   "source": [
    "from treeinterpreter import treeinterpreter as ti, utils\n",
    "prediction, bias, contributions = ti.predict(rf, encoder.transform(batch[instance:instance + 1]))\n",
    "\n",
    "interp_cols = sum([['predictor'], class_names, ['abseff']], [])\n",
    "interp = pd.DataFrame(columns=interp_cols)\n",
    "# now extract contributions for each instance\n",
    "for c, feature in zip(contributions[0], onehot_features):\n",
    "    if any(c != 0):\n",
    "        vals = c.tolist()\n",
    "        vals.insert(0, feature)\n",
    "        vals.append(sum(abs(c)))\n",
    "        interp = interp.append(dict(zip(interp_cols, vals))\n",
    "                               , ignore_index=True)"
   ]
  },
  {
   "cell_type": "code",
   "execution_count": null,
   "metadata": {
    "scrolled": false
   },
   "outputs": [],
   "source": [
    "interp = interp.sort_values('abseff', ascending=False).reset_index().drop('index', axis=1)\n",
    "interp"
   ]
  },
  {
   "cell_type": "code",
   "execution_count": null,
   "metadata": {
    "scrolled": false
   },
   "outputs": [],
   "source": [
    "interp = interp.sort_values('bad', ascending=False).reset_index().drop('index', axis=1)\n",
    "interp"
   ]
  },
  {
   "cell_type": "code",
   "execution_count": null,
   "metadata": {
    "scrolled": false
   },
   "outputs": [],
   "source": [
    "priors = dict(zip(interp_cols[1:],  np.append(bias[0], 1.0)))\n",
    "priors['predictor'] = 'priors (bias)'\n",
    "totals = dict(zip(interp_cols[1:],  interp.sum()[1:].values))\n",
    "totals['predictor'] = 'Total'\n",
    "preds = dict(zip(interp_cols[1:],  np.append(prediction, 1.0)))\n",
    "preds['predictor'] = 'P(class)'\n",
    "interp_totals = pd.DataFrame(columns=interp_cols)\n",
    "interp_totals = interp_totals.append(priors, ignore_index=True)\n",
    "\n",
    "interp_totals = interp_totals.append(totals, ignore_index=True)\n",
    "interp_totals = interp_totals.append(preds, ignore_index=True)\n",
    "interp_totals"
   ]
  },
  {
   "cell_type": "markdown",
   "metadata": {},
   "source": [
    "## LIME"
   ]
  },
  {
   "cell_type": "code",
   "execution_count": null,
   "metadata": {
    "scrolled": false
   },
   "outputs": [],
   "source": [
    "fig = exp.as_pyplot_figure(label=pred_class_code)\n",
    "\n",
    "exp.as_list(label=pred_class_code)"
   ]
  },
  {
   "cell_type": "code",
   "execution_count": null,
   "metadata": {
    "scrolled": false
   },
   "outputs": [],
   "source": [
    "# Show the runner up class details\n",
    "fig = exp.as_pyplot_figure(label=second_class_code)\n",
    "exp.as_list(label=second_class_code)"
   ]
  },
  {
   "cell_type": "code",
   "execution_count": null,
   "metadata": {
    "scrolled": false
   },
   "outputs": [],
   "source": [
    "exp.show_in_notebook()"
   ]
  }
 ],
 "metadata": {
  "anaconda-cloud": {},
  "kernelspec": {
   "display_name": "Python [default]",
   "language": "python",
   "name": "python3"
  },
  "language_info": {
   "codemirror_mode": {
    "name": "ipython",
    "version": 3
   },
   "file_extension": ".py",
   "mimetype": "text/x-python",
   "name": "python",
   "nbconvert_exporter": "python",
   "pygments_lexer": "ipython3",
   "version": "3.5.4"
  }
 },
 "nbformat": 4,
 "nbformat_minor": 2
}
