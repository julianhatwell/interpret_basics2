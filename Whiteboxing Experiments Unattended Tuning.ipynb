{
 "cells": [
  {
   "cell_type": "code",
   "execution_count": null,
   "metadata": {},
   "outputs": [],
   "source": [
    "from IPython.display import Image\n",
    "%matplotlib inline\n",
    "\n",
    "# experimental script\n",
    "import pickle\n",
    "import numpy as np\n",
    "from pandas import DataFrame\n",
    "from forest_surveyor.routines import grid_experiment"
   ]
  },
  {
   "cell_type": "code",
   "execution_count": null,
   "metadata": {},
   "outputs": [],
   "source": [
    "random_state = np.repeat([123, 124, 125, 126, 127], 20)\n",
    "alpha_paths = np.tile(np.repeat([0.1, 0.3, 0.5, 0.7, 0.9], 4) ,5)\n",
    "support_paths = np.tile([0.01, 0.02, 0.1, 0.2], 25) \n",
    "over_f = np.repeat([False], 19)\n",
    "over_t = np.concatenate((np.array([True]), over_f))\n",
    "override_tuning = np.tile(over_t, 5)\n",
    "precis_threshold = np.tile([0.95], 100)\n",
    "exp_grid1 = DataFrame([(r, a, s, p, o) for r, a, s, p, o in zip(random_state,\n",
    "                                                                alpha_paths,\n",
    "                                                                support_paths,\n",
    "                                                                precis_threshold,\n",
    "                                                                override_tuning)],\n",
    "                     columns=['random_state', 'alpha_paths', 'support_paths', 'precis_threshold', 'override_tuning'])\n"
   ]
  },
  {
   "cell_type": "code",
   "execution_count": null,
   "metadata": {},
   "outputs": [],
   "source": [
    "n_instances=500\n",
    "n_batches=50\n",
    "eval_model=True\n",
    "\n",
    "for eg in exp_grid1.index:\n",
    "\n",
    "    grid_experiment(n_instances,\n",
    "                    n_batches,\n",
    "                    random_state=exp_grid1.loc[eg]['random_state']\n",
    "                    override_tuning=exp_grid1.loc[eg]['override_tuning'],\n",
    "                    support_paths=exp_grid1.loc[eg]['support_paths'],\n",
    "                    alpha_paths=exp_grid1.loc[eg]['alpha_paths'],\n",
    "                    precis_threshold=exp_grid1.loc[eg]['precis_threshold'],\n",
    "                    run_anchors=False)"
   ]
  }
 ],
 "metadata": {
  "kernelspec": {
   "display_name": "Python 3",
   "language": "python",
   "name": "python3"
  },
  "language_info": {
   "codemirror_mode": {
    "name": "ipython",
    "version": 3
   },
   "file_extension": ".py",
   "mimetype": "text/x-python",
   "name": "python",
   "nbconvert_exporter": "python",
   "pygments_lexer": "ipython3",
   "version": "3.6.4"
  }
 },
 "nbformat": 4,
 "nbformat_minor": 2
}
