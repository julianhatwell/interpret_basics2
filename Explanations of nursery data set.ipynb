{
 "cells": [
  {
   "cell_type": "markdown",
   "metadata": {},
   "source": [
    "### Prologue\n",
    "Prepare the notebook for inline plotting<br>\n",
    "Load require libraries<br>\n",
    "Create custom functions<br>\n",
    "Load and preprocess data<br>\n",
    "Train a random forest using previously optimized/tuned hyper-parameters"
   ]
  },
  {
   "cell_type": "code",
   "execution_count": 1,
   "metadata": {
    "scrolled": false
   },
   "outputs": [
    {
     "name": "stdout",
     "output_type": "stream",
     "text": [
      "Utility code in the associated file performs the following steps:\n",
      "defines function to print pretty confusion matrix: plot_confusion_matrix()\n",
      "defines a function to get the class code by label: get_class_code()\n",
      "defines a function to plot a tree inline: tree_to_code()\n",
      "defines a function to extract all the structural arrays of a tree: get_tree_structure()\n",
      "defines a function to extract a metrics dictionary from a random forest: explore_forest()\n",
      "defines a function to pass batches of data to explore_forest(), split by correct/incorrect prediction: batch_analyse_model()\n",
      "defines function to plot the mean path lengths from an object returned by explore_forest(): plot_mean_path_lengths()\n",
      "defines a function to map the path of an instance down a tree: tree_path()\n",
      "defines a function to map the path of an instance down a tree ensemble: forest_path()\n",
      "defines a function to find the majority predicted class from object returned by forest_path(): major_class_from_forest_paths()\n",
      "defines a function to convert a tree into a function: tree_to_code()\n",
      "defines a function to get list of all the paths for one instance out of a forest_paths object: get_paths()\n",
      "defines a function to get basic labels back from one hot encoded label names: decode onehot\n",
      "defines a function to get basic labels back from one hot encoded label names for all paths in a get_paths() object: decode onehot\n",
      "defines a function with an apriori based algorithm for finding frequent patterns from a list of paths: apriori()\n",
      "defines a function to sort a frequent pattern list returned by apriori()\n",
      "defines a class to accumulate freqent patterns into a rule set rule_accumulator\n",
      "defines a function to apply an accumulated rule to a data set: apply_rule()\n",
      "\n",
      "\n",
      "Data Description:\n",
      "Nursery Database was derived from a hierarchical decision model\n",
      "originally developed to rank applications for nursery schools. It\n",
      "was used during several years in 1980's when there was excessive\n",
      "enrollment to these schools in Ljubljana, Slovenia, and the\n",
      "rejected applications frequently needed an objective\n",
      "explanation. The final decision depended on three subproblems:\n",
      "occupation of parents and child's nursery, family structure and\n",
      "financial standing, and social and health picture of the family.\n",
      "The model was developed within expert system shell for decision\n",
      "making DEX (M. Bohanec, V. Rajkovic: Expert system for decision\n",
      "making. Sistemica 1(1), pp. 145-157, 1990.).\n",
      "\n",
      "Utility code in the associated file performs the following steps:\n",
      "set random seed for the test_train_split\n",
      "import packages and modules\n",
      "defines a custom summary function: rstr()\n",
      "create the list of variable names: var_names\n",
      "create the list of features (var_names less class): features\n",
      "import the nursery.csv file\n",
      "create the pandas dataframe and prints head: nursery\n",
      "create the categorical var encoder dictionary: le_dict\n",
      "create a function to get any code for a column name and label: get_code\n",
      "create the dictionary of categorical values: categories\n",
      "create lists and dicts of one hot encoded variable names, onehot_features, onehot_dict\n",
      "create the list of class names: class_names\n",
      "create the pandas dataframe with encoded vars: nursery_pre\n",
      "create the pandas dataframe containing all features less class: X\n",
      "create the pandas series containing the class 'decision': y\n",
      "create the training and test sets: X_train, y_train, X_test, y_test\n",
      "evaluate the training and test set priors and print them: train_priors, test_priors\n",
      "create a One Hot Encoder and encode the train set: X_train_enc\n",
      "(avoids treating variables as ordinal or continuous)\n",
      "pickles objects that are needed by later steps: encoder, X_train_enc, y_train\n",
      "creates a closure with the location of the pickle files for easy access to the stored datasets: pickle_path()\n",
      "\n",
      "nursery.head()\n",
      "  parents has_nurs      form children     housing     finance         social  \\\n",
      "0   usual   proper  complete        1  convenient  convenient        nonprob   \n",
      "1   usual   proper  complete        1  convenient  convenient        nonprob   \n",
      "2   usual   proper  complete        1  convenient  convenient  slightly_prob   \n",
      "3   usual   proper  complete        1  convenient  convenient  slightly_prob   \n",
      "4   usual   proper  complete        1  convenient  convenient    problematic   \n",
      "\n",
      "        health   decision  \n",
      "0     priority   priority  \n",
      "1    not_recom  not_recom  \n",
      "2     priority   priority  \n",
      "3    not_recom  not_recom  \n",
      "4  recommended   priority  \n",
      "\n",
      "shape\n",
      "(12958, 9)\n",
      "\n",
      "variables summary\n",
      "parents                    [[usual, pretentious, great_pret]]\n",
      "has_nurs    [[proper, less_proper, improper, critical, ver...\n",
      "form              [[complete, completed, incomplete, foster]]\n",
      "children                                    [[1, 2, 3, more]]\n",
      "housing                   [[convenient, less_conv, critical]]\n",
      "finance                                [[convenient, inconv]]\n",
      "social                [[nonprob, slightly_prob, problematic]]\n",
      "health                   [[priority, not_recom, recommended]]\n",
      "decision      [[priority, not_recom, very_recom, spec_prior]]\n",
      "dtype: object\n",
      "\n",
      "\n",
      "Training Priors\n",
      "not_recom 0.3320837927232635\n",
      "priority 0.33042998897464165\n",
      "spec_prior 0.31201764057331866\n",
      "very_recom 0.025468577728776184\n",
      "\n",
      "\n",
      "Test Priors\n",
      "not_recom 0.33641975308641975\n",
      "priority 0.3263888888888889\n",
      "spec_prior 0.31224279835390945\n",
      "very_recom 0.024948559670781894\n"
     ]
    }
   ],
   "source": [
    "from IPython.display import Image\n",
    "%matplotlib inline\n",
    "%run rf_analysis_utils.py\n",
    "%run nursery_dataprep.py"
   ]
  },
  {
   "cell_type": "markdown",
   "metadata": {},
   "source": [
    "The data objects are now saved and given a set of generic names ease of use."
   ]
  },
  {
   "cell_type": "code",
   "execution_count": 2,
   "metadata": {
    "scrolled": true
   },
   "outputs": [],
   "source": [
    "# get the correct directory for saved objects\n",
    "pickle_dir_store = open(\"pickle_dir.pickle\", \"rb\")\n",
    "pickle_dir = pickle.load(pickle_dir_store)\n",
    "pickle_dir_store.close()\n",
    "\n",
    "# helper function for pickling files\n",
    "def pickle_path(filename):\n",
    "    return(pickle_dir + '\\\\' + filename)\n",
    "\n",
    "# load up the training set (required because of running from script into Jup Note)\n",
    "encoder_store = open(pickle_path('encoder.pickle'), \"rb\")\n",
    "encoder = pickle.load(encoder_store)\n",
    "encoder_store.close()\n",
    "\n",
    "X_train_enc_store = open(pickle_path('X_train_enc.pickle'), \"rb\")\n",
    "X_train_enc = pickle.load(X_train_enc_store)\n",
    "X_train_enc_store.close()\n",
    "\n",
    "y_train_store = open(pickle_path('y_train.pickle'), \"rb\")\n",
    "y_train = pickle.load(y_train_store)\n",
    "y_train_store.close()"
   ]
  },
  {
   "cell_type": "code",
   "execution_count": 3,
   "metadata": {
    "scrolled": true
   },
   "outputs": [
    {
     "name": "stdout",
     "output_type": "stream",
     "text": [
      "Parameter tuning (disabled)\n",
      "Utility code in the associated file performs the following steps:\n",
      "set random seed for the random forest\n",
      "fetch the best parameters from model tuning results\n",
      "\n",
      "Best OOB Cohen's Kappa during tuning: 0.9881\n",
      "Best parameters: {'min_samples_leaf': 1, 'n_estimators': 1000, 'max_depth': 16}\n",
      "\n",
      "Training a random forest model using best parameters... (please wait)\n",
      "\n",
      "Done\n",
      "\n",
      "Created helper function enc_model(). A pipeline: feature encoding -> rf model\n"
     ]
    }
   ],
   "source": [
    "%run rf_analysis_modelprep.py"
   ]
  },
  {
   "cell_type": "markdown",
   "metadata": {},
   "source": [
    "### Random Forest Performance"
   ]
  },
  {
   "cell_type": "code",
   "execution_count": 4,
   "metadata": {
    "scrolled": false
   },
   "outputs": [
    {
     "name": "stdout",
     "output_type": "stream",
     "text": [
      "Cohen's Kappa on unseen instances: 0.9883\n",
      "Confusion matrix, without normalization\n",
      "[[1308    0    0    0]\n",
      " [   0 1249   20    0]\n",
      " [   0    4 1210    0]\n",
      " [   0    7    0   90]]\n",
      "Normalized confusion matrix\n",
      "[[1.   0.   0.   0.  ]\n",
      " [0.   0.98 0.02 0.  ]\n",
      " [0.   0.   1.   0.  ]\n",
      " [0.   0.07 0.   0.93]]\n"
     ]
    },
    {
     "data": {
      "image/png": "[encoded data removed]",
      "text/plain": [
       "<matplotlib.figure.Figure at 0x1fe53c7a940>"
      ]
     },
     "metadata": {},
     "output_type": "display_data"
    },
    {
     "data": {
      "image/png": "[encoded data removed]",
      "text/plain": [
       "<matplotlib.figure.Figure at 0x1fe53c474a8>"
      ]
     },
     "metadata": {},
     "output_type": "display_data"
    }
   ],
   "source": [
    "# test the model on unseen data\n",
    "pred = enc_model.predict(X_test)\n",
    "print(\"Cohen's Kappa on unseen instances: \" \"{:0.4f}\".format(metrics.cohen_kappa_score(y_test, pred)))\n",
    "\n",
    "# view the confusion matrix\n",
    "cm = metrics.confusion_matrix(y_test, pred)\n",
    "plot_confusion_matrix(cm, classes=class_names,\n",
    "                      title='Confusion matrix, without normalization')\n",
    "plt.figure()\n",
    "# normalized confusion matrix\n",
    "plot_confusion_matrix(cm\n",
    "                      , classes=class_names\n",
    "                      , normalize=True,\n",
    "                      title='Normalized confusion matrix')\n"
   ]
  },
  {
   "cell_type": "markdown",
   "metadata": {},
   "source": [
    "# Analysis of Random Forests by Decision Paths and Votes\n",
    "This code uses the sci-kit learn object model to analyse a large tree ensemble trained over the dataset.\n",
    "\n",
    "Currently only non-weighted trees are supported, so that rules out Boosted models, but a future version is intended to support weighted trees (weighted voting). \n",
    "\n",
    "Currently only categorical data is supported, so that rules out ExtraTrees, but a future version is intended to support ExtraTrees (random threshold selection).\n",
    "\n",
    "This method relies on the stochastic process that selects the best split node at each split from a randomly selected restricted subspace."
   ]
  },
  {
   "cell_type": "markdown",
   "metadata": {},
   "source": [
    "# Part 1. Global Explanations\n",
    "## Statistical Analysis of a random forest model using data batches\n",
    "* Inductive Properties are based on the training data\n",
    "* Transductive Properties are based on the test (held out) data\n",
    "* In both cases, the whole dataset is passed into the model and statistics are gathered about how frequently the features are visited.\n",
    "\n",
    "* OOB data (to do)"
   ]
  },
  {
   "cell_type": "code",
   "execution_count": 5,
   "metadata": {
    "scrolled": true
   },
   "outputs": [],
   "source": [
    "# First instantiate new survey class with the RF model\n",
    "f_survey = forest_surveyor(model = rf, features = onehot_features, prediction_model = enc_model)"
   ]
  },
  {
   "cell_type": "code",
   "execution_count": 6,
   "metadata": {
    "scrolled": true
   },
   "outputs": [],
   "source": [
    "########################################################################\n",
    "### This takes a few minutes, so only run when an update is required ###\n",
    "########################################################################\n",
    "\n",
    "if True:\n",
    "    \n",
    "    batch = X_test\n",
    "    labels = y_test\n",
    "\n",
    "    correct_preds = enc_model.predict(batch) == labels\n",
    "    incorrect_preds = enc_model.predict(batch) != labels\n",
    "    \n",
    "    if sum(correct_preds) > 0:\n",
    "        X = batch[correct_preds.values]\n",
    "        y = labels[correct_preds.values]\n",
    "        \n",
    "        f_survey.fit(encoder.transform(X), y, onehot_features)\n",
    "        f_cor_stats = f_survey.forest_stats(np.unique(y))\n",
    "        \n",
    "    if sum(incorrect_preds) > 0:\n",
    "        X = batch[incorrect_preds.values]\n",
    "        y = labels[incorrect_preds.values]\n",
    "        \n",
    "        f_survey.fit(encoder.transform(X), y, onehot_features)\n",
    "        f_incor_stats = f_survey.forest_stats(np.unique(y))\n",
    "    \n",
    "    tt_correct_stats_store = open(pickle_path('tt_correct_stats.pickle'), \"wb\")\n",
    "    pickle.dump(f_cor_stats, tt_correct_stats_store)\n",
    "    tt_correct_stats_store.close()\n",
    "    \n",
    "    tt_incorrect_stats_store = open(pickle_path('tt_incorrect_stats.pickle'), \"wb\")\n",
    "    pickle.dump(f_incor_stats, tt_incorrect_stats_store)\n",
    "    tt_incorrect_stats_store.close()\n",
    "\n",
    "tt_correct_stats_store = open(pickle_path('tt_correct_stats.pickle'), \"rb\")\n",
    "tt_correct_stats = pickle.load(tt_correct_stats_store)\n",
    "tt_correct_stats_store.close()\n",
    "\n",
    "tt_incorrect_stats_store = open(pickle_path('tt_incorrect_stats.pickle'), \"rb\")\n",
    "tt_incorrect_stats = pickle.load(tt_incorrect_stats_store)\n",
    "tt_incorrect_stats_store.close()"
   ]
  },
  {
   "cell_type": "code",
   "execution_count": 7,
   "metadata": {
    "scrolled": false
   },
   "outputs": [
    {
     "data": {
      "image/png": "[encoded data removed]",
      "text/plain": [
       "<matplotlib.figure.Figure at 0x1fe53bc3898>"
      ]
     },
     "metadata": {},
     "output_type": "display_data"
    }
   ],
   "source": [
    "# comparing mean path lengths\n",
    "plot_mean_path_lengths(tt_correct_stats, class_labels=class_names)"
   ]
  },
  {
   "cell_type": "code",
   "execution_count": 8,
   "metadata": {
    "scrolled": false
   },
   "outputs": [
    {
     "data": {
      "image/png": "[encoded data removed]",
      "text/plain": [
       "<matplotlib.figure.Figure at 0x1fe5fc69d30>"
      ]
     },
     "metadata": {},
     "output_type": "display_data"
    }
   ],
   "source": [
    "plot_varimp(rf, onehot_features)"
   ]
  },
  {
   "cell_type": "code",
   "execution_count": 9,
   "metadata": {
    "scrolled": false
   },
   "outputs": [
    {
     "data": {
      "image/png": "[encoded data removed]",
      "text/plain": [
       "<matplotlib.figure.Figure at 0x1fe0006ccc0>"
      ]
     },
     "metadata": {},
     "output_type": "display_data"
    }
   ],
   "source": [
    "data = [[tt_correct_stats[k]['p_lower_traversals']] for k in tt_correct_stats.keys() if k != 'all_classes']\n",
    "plot_feature_stats(data, class_names, 'p_lower_traversals', onehot_features)"
   ]
  },
  {
   "cell_type": "code",
   "execution_count": 10,
   "metadata": {},
   "outputs": [
    {
     "data": {
      "image/png": "[encoded data removed]",
      "text/plain": [
       "<matplotlib.figure.Figure at 0x1fe00006eb8>"
      ]
     },
     "metadata": {},
     "output_type": "display_data"
    }
   ],
   "source": [
    "data = [[tt_correct_stats[k]['p_lower_traversals']] for k in tt_correct_stats.keys() if k!= 0 and k != 'all_classes']\n",
    "plot_feature_stats(data, class_names[1:], 'p_lower_traversals', onehot_features)"
   ]
  },
  {
   "cell_type": "code",
   "execution_count": null,
   "metadata": {
    "scrolled": false
   },
   "outputs": [],
   "source": [
    "stat_impor_plot(importances = rf.feature_importances_, statistics = tt_correct_stats, label = 'all_classes')"
   ]
  },
  {
   "cell_type": "code",
   "execution_count": null,
   "metadata": {
    "scrolled": false
   },
   "outputs": [],
   "source": [
    "stat_impor_plot(importances = rf.feature_importances_, statistics = tt_correct_stats, label = 1)"
   ]
  },
  {
   "cell_type": "code",
   "execution_count": null,
   "metadata": {
    "scrolled": false
   },
   "outputs": [],
   "source": [
    "stat_impor_plot(importances = rf.feature_importances_, statistics = tt_correct_stats, label = 2)"
   ]
  },
  {
   "cell_type": "code",
   "execution_count": null,
   "metadata": {
    "scrolled": false
   },
   "outputs": [],
   "source": [
    "stat_impor_plot(importances = rf.feature_importances_, statistics = tt_correct_stats, label = 3)"
   ]
  },
  {
   "cell_type": "markdown",
   "metadata": {},
   "source": [
    "The test set allows useful comparisons of correctly predicted and incorrectly predicted instances."
   ]
  },
  {
   "cell_type": "code",
   "execution_count": null,
   "metadata": {
    "scrolled": false
   },
   "outputs": [],
   "source": [
    "resids, rank = cor_incor_plot(cor = tt_correct_stats, incor = tt_incorrect_stats, label = 1)"
   ]
  },
  {
   "cell_type": "code",
   "execution_count": null,
   "metadata": {
    "scrolled": true
   },
   "outputs": [],
   "source": [
    "log_ratio = log_ratio_plot(tt_correct_stats[1]['p_lower_traversals']\n",
    "                           , tt_incorrect_stats[1]['p_lower_traversals']\n",
    "                           , onehot_features)"
   ]
  },
  {
   "cell_type": "code",
   "execution_count": null,
   "metadata": {
    "scrolled": false
   },
   "outputs": [],
   "source": [
    "resids, rank = cor_incor_plot(cor = tt_correct_stats, incor = tt_incorrect_stats, label = 2)"
   ]
  },
  {
   "cell_type": "code",
   "execution_count": null,
   "metadata": {
    "scrolled": false
   },
   "outputs": [],
   "source": [
    "log_ratio = log_ratio_plot(tt_correct_stats[2]['p_lower_traversals']\n",
    "                           , tt_incorrect_stats[2]['p_lower_traversals']\n",
    "                           , onehot_features)"
   ]
  },
  {
   "cell_type": "code",
   "execution_count": null,
   "metadata": {
    "scrolled": false
   },
   "outputs": [],
   "source": [
    "resids, rank = cor_incor_plot(cor = tt_correct_stats, incor = tt_incorrect_stats, label = 3)"
   ]
  },
  {
   "cell_type": "code",
   "execution_count": null,
   "metadata": {
    "scrolled": false
   },
   "outputs": [],
   "source": [
    "log_ratio = log_ratio_plot(num = tt_correct_stats[3]['m_lower_traversals']\n",
    "                            , num_err = tt_correct_stats[3]['se_lower_traversals']\n",
    "                            , denom = tt_incorrect_stats[3]['m_lower_traversals']\n",
    "                            , denom_err = tt_incorrect_stats[3]['se_lower_traversals']\n",
    "                            , labels = onehot_features\n",
    ")"
   ]
  },
  {
   "cell_type": "markdown",
   "metadata": {},
   "source": [
    "### Comparing class profiles"
   ]
  },
  {
   "cell_type": "code",
   "execution_count": null,
   "metadata": {
    "scrolled": true
   },
   "outputs": [],
   "source": [
    "log_ratio = log_ratio_plot(num = tt_correct_stats[1]['m_lower_traversals'],\n",
    "                           denom = tt_correct_stats[0]['m_lower_traversals'],\n",
    "                           num_err = tt_correct_stats[1]['sd_lower_traversals'],\n",
    "                           denom_err = tt_correct_stats[0]['sd_lower_traversals'],\n",
    "                           labels = onehot_features)\n",
    "\n",
    "log_ratio = log_ratio_plot(num = tt_correct_stats[3]['m_lower_traversals'],\n",
    "                           denom = tt_correct_stats[1]['m_lower_traversals'],\n",
    "                           num_err = tt_correct_stats[3]['sd_lower_traversals'],\n",
    "                           denom_err = tt_correct_stats[1]['sd_lower_traversals'],\n",
    "                           labels = onehot_features)"
   ]
  },
  {
   "cell_type": "markdown",
   "metadata": {},
   "source": [
    "## Open Questions\n",
    "There is a strong relationship between feature importance and feature depth, indicating that despite the randomness, feature importance exerts a pressure for a feature to be selected earlier.\n",
    "\n",
    "Does it also mean a feature will be selected more frequently?\n",
    "\n",
    "Is the relationship linear, or close to? Does feature depth add new information, compared to feature importance?\n",
    "Feature depth is class specific. How can this be exploited?\n",
    "\n",
    "Is this best suited to multi-class problems?"
   ]
  },
  {
   "cell_type": "markdown",
   "metadata": {},
   "source": [
    "# Part 2. Local Explanations\n",
    "## Analysis of decision paths for individual unseen instances in a random forest model\n",
    "* Frequent Pattern Mining of decision paths\n",
    "* Rule Compression of decision paths"
   ]
  },
  {
   "cell_type": "code",
   "execution_count": null,
   "metadata": {
    "scrolled": true
   },
   "outputs": [],
   "source": [
    "first_n = 10\n",
    "\n",
    "batch = X_test[0:first_n]\n",
    "labels = y_test[0:first_n]\n",
    "\n",
    "if True:\n",
    "    '''\n",
    "    tfp = forest_path(forest = rf\n",
    "                    , feature_names = onehot_features\n",
    "                    , instances = batch\n",
    "                    , labels = labels\n",
    "                    , feature_encoding = encoder\n",
    "                    , by_tree = True)\n",
    "\n",
    "    ifp = forest_path(forest = rf\n",
    "                    , feature_names = onehot_features\n",
    "                    , instances = batch\n",
    "                    , labels = labels\n",
    "                    , feature_encoding = encoder\n",
    "                    , by_tree = False)\n",
    "    '''\n",
    "nfp = forest_path(forest = rf\n",
    "                , feature_names = onehot_features\n",
    "                , instances = batch\n",
    "                , labels = None\n",
    "                , feature_encoding = encoder\n",
    "                , by_tree = False)"
   ]
  },
  {
   "cell_type": "code",
   "execution_count": null,
   "metadata": {
    "scrolled": true
   },
   "outputs": [],
   "source": [
    "# there is a bug in sklearn causing all the warnings. This should be fixed in next release.\n",
    "paths = {}\n",
    "sorted_fp = {}\n",
    "for instance in range(first_n):\n",
    "    paths[instance] = get_paths(nfp, instance, by_tree = False, which_trees='majority')\n",
    "    print('Instance ' + str(instance) + ':    True Class = ' + \n",
    "        str(labels.values[instance]) + ' ' + \n",
    "          str(get_label(class_col, labels.values[instance])) + \n",
    "        '    Majority voting trees = ' + str(len(paths[instance])))"
   ]
  },
  {
   "cell_type": "code",
   "execution_count": null,
   "metadata": {
    "scrolled": true
   },
   "outputs": [],
   "source": [
    "# there is a bug in sklearn causing all the warnings. This should be fixed in next release.\n",
    "instance = 5\n",
    "\n",
    "# Collect useful data for instance\n",
    "true_class = labels[instance:instance+1].values[0]\n",
    "pred_probs = enc_model.predict_proba(batch[instance:instance + 1])[0]\n",
    "\n",
    "# get the class codes produced by the model and the true class\n",
    "true_class_code = get_label(class_col, true_class)\n",
    "\n",
    "class_code_confs = np.argsort(pred_probs)[::-1] # descending order\n",
    "pred_class_code = get_code(class_col, class_names[class_code_confs[0]])\n",
    "second_class_code = get_code(class_col, class_names[class_code_confs[1]])\n",
    "\n",
    "print('Test instance id: ' + str(instance))\n",
    "print('True class: ' + str(true_class))\n",
    "print('Pedicted Class Probabilities ')\n",
    "for c, n, p in zip(class_names, range(len(class_names)), pred_probs):\n",
    "    print(n, c, \"{:0.4f}\".format(p))\n",
    "\n",
    "# Display instance row\n",
    "nurs_id = batch[instance:instance + 1].index[0]\n",
    "nursery[nurs_id:nurs_id + 1]"
   ]
  },
  {
   "cell_type": "code",
   "execution_count": null,
   "metadata": {
    "scrolled": true
   },
   "outputs": [],
   "source": [
    "# training data - could be a representative sample if original tr is too large or unavailable\n",
    "training_data = X_train\n",
    "training_labels = y_train\n",
    "\n",
    "# MAJORITY\n",
    "# generate a set of paths, sorting can be tuned\n",
    "sorted_fp = get_sorted_fp(get_paths(nfp, instance, by_tree = False, which_trees='majority'),\n",
    "                                 support = 0.2, max_itemset_size = 6, alpha = 0.0)\n",
    "# create the rule accumulator\n",
    "ra = rule_accumulator(vars_dict=vars_dict, onehot_dict = onehot_dict, rule_list=sorted_fp)\n",
    "\n",
    "# run the profile\n",
    "ra, model_votes = profile_instance(instance=instance\n",
    "                                     , fp_object = nfp\n",
    "                                     , rule_acc = ra\n",
    "                                     , training_data = encoder.transform(training_data)\n",
    "                                     , training_labels = training_labels\n",
    "                                     , features = onehot_features\n",
    "                                     , class_names = class_names\n",
    "                                     , stopping_param = 0.8)\n",
    "\n",
    "# MINORITY\n",
    "# generate a set of paths, sorting can be tuned\n",
    "sorted_fp_min = get_sorted_fp(get_paths(nfp, instance, by_tree = False, which_trees='minority'),\n",
    "                                 support = 0.2, max_itemset_size = 6, alpha = 0.0)\n",
    "\n",
    "# create the rule accumulator\n",
    "ra_min = rule_accumulator(vars_dict=vars_dict, onehot_dict = onehot_dict, rule_list=sorted_fp_min)\n",
    "\n",
    "# run the profile\n",
    "ra_min, model_votes = profile_instance(instance=instance\n",
    "                                     , fp_object = nfp\n",
    "                                     , rule_acc = ra_min\n",
    "                                     , training_data = encoder.transform(training_data)\n",
    "                                     , training_labels = training_labels\n",
    "                                     , features = onehot_features\n",
    "                                     , class_names = class_names\n",
    "                                     , stopping_param = 0.8)"
   ]
  },
  {
   "cell_type": "code",
   "execution_count": null,
   "metadata": {
    "scrolled": true
   },
   "outputs": [],
   "source": [
    "ra.rule"
   ]
  },
  {
   "cell_type": "code",
   "execution_count": null,
   "metadata": {
    "scrolled": true
   },
   "outputs": [],
   "source": [
    "ra.prune_rule()\n",
    "ra.pruned_rule"
   ]
  },
  {
   "cell_type": "code",
   "execution_count": null,
   "metadata": {
    "scrolled": true
   },
   "outputs": [],
   "source": [
    "p_count(training_labels.loc[apply_rule(ra.pruned_rule, encoder.transform(training_data), onehot_features)].values)"
   ]
  },
  {
   "cell_type": "code",
   "execution_count": null,
   "metadata": {
    "scrolled": true
   },
   "outputs": [],
   "source": [
    "p_count(training_labels.loc[apply_rule([\n",
    " ('parents_usual', False, 0.5),\n",
    " ('social_problematic', True, 0.5),\n",
    " ('health_recommended', False, 0.5),\n",
    " ('form_complete', False, 0.5),\n",
    " ('has_nurs_improper', False, 0.5),\n",
    " ('housing_critical', True, 0.5),\n",
    " ('children_2', False, 0.5)\n",
    "], encoder.transform(training_data), onehot_features)].values)"
   ]
  },
  {
   "cell_type": "code",
   "execution_count": null,
   "metadata": {
    "scrolled": true
   },
   "outputs": [],
   "source": [
    "ra.tight_rule"
   ]
  },
  {
   "cell_type": "code",
   "execution_count": null,
   "metadata": {
    "scrolled": true
   },
   "outputs": [],
   "source": [
    "p_count(training_labels.loc[apply_rule(ra.tight_rule, encoder.transform(training_data), onehot_features)].values)"
   ]
  },
  {
   "cell_type": "code",
   "execution_count": null,
   "metadata": {
    "scrolled": true
   },
   "outputs": [],
   "source": [
    "ra3 = rule_accumulator(vars_dict=vars_dict, onehot_dict = onehot_dict, rule_list=sorted_fp)\n",
    "for i in range(3):\n",
    "    ra3.add_rule()\n",
    "ra3.prune_rule()\n",
    "ra3.pruned_rule"
   ]
  },
  {
   "cell_type": "code",
   "execution_count": null,
   "metadata": {
    "scrolled": true
   },
   "outputs": [],
   "source": [
    "p_count(training_labels.loc[apply_rule(ra3.pruned_rule, encoder.transform(training_data), onehot_features)].values)"
   ]
  },
  {
   "cell_type": "code",
   "execution_count": null,
   "metadata": {
    "scrolled": true
   },
   "outputs": [],
   "source": [
    "ra_min.rule"
   ]
  },
  {
   "cell_type": "code",
   "execution_count": null,
   "metadata": {
    "scrolled": true
   },
   "outputs": [],
   "source": [
    "ra_min.prune_rule()\n",
    "ra_min.pruned_rule"
   ]
  },
  {
   "cell_type": "code",
   "execution_count": null,
   "metadata": {
    "scrolled": true
   },
   "outputs": [],
   "source": [
    "ra_min.tight_rule"
   ]
  },
  {
   "cell_type": "code",
   "execution_count": null,
   "metadata": {
    "scrolled": true
   },
   "outputs": [],
   "source": [
    "p_count(training_labels.loc[apply_rule(ra_min.pruned_rule, encoder.transform(training_data), onehot_features)].values)"
   ]
  },
  {
   "cell_type": "code",
   "execution_count": null,
   "metadata": {
    "scrolled": true
   },
   "outputs": [],
   "source": [
    "p_count(training_labels.loc[apply_rule(ra_min.tight_rule, encoder.transform(training_data), onehot_features)].values)"
   ]
  },
  {
   "cell_type": "markdown",
   "metadata": {},
   "source": [
    "# Part 3. Other Demos"
   ]
  },
  {
   "cell_type": "markdown",
   "metadata": {},
   "source": [
    "## treeinterpreter - local explanations from conditional probabilities"
   ]
  },
  {
   "cell_type": "code",
   "execution_count": null,
   "metadata": {
    "scrolled": true
   },
   "outputs": [],
   "source": [
    "from treeinterpreter import treeinterpreter as ti, utils\n",
    "prediction, bias, contributions = ti.predict(rf, encoder.transform(batch[instance:instance + 1]))\n",
    "\n",
    "interp_cols = sum([['predictor'], class_names, ['abseff']], [])\n",
    "interp = pd.DataFrame(columns=interp_cols)\n",
    "# now extract contributions for each instance\n",
    "for c, feature in zip(contributions[0], onehot_features):\n",
    "    if any(c != 0):\n",
    "        vals = c.tolist()\n",
    "        vals.insert(0, feature)\n",
    "        vals.append(sum(abs(c)))\n",
    "        interp = interp.append(dict(zip(interp_cols, vals))\n",
    "                               , ignore_index=True)"
   ]
  },
  {
   "cell_type": "code",
   "execution_count": null,
   "metadata": {
    "scrolled": true
   },
   "outputs": [],
   "source": [
    "interp = interp.sort_values('abseff', ascending=False).reset_index().drop('index', axis=1)\n",
    "interp"
   ]
  },
  {
   "cell_type": "code",
   "execution_count": null,
   "metadata": {
    "scrolled": true
   },
   "outputs": [],
   "source": [
    "interp = interp.sort_values('very_recom', ascending=False).reset_index().drop('index', axis=1)\n",
    "interp"
   ]
  },
  {
   "cell_type": "code",
   "execution_count": null,
   "metadata": {
    "scrolled": true
   },
   "outputs": [],
   "source": [
    "priors = dict(zip(interp_cols[1:],  np.append(bias[0], 1.0)))\n",
    "priors['predictor'] = 'priors (bias)'\n",
    "totals = dict(zip(interp_cols[1:],  interp.sum()[1:].values))\n",
    "totals['predictor'] = 'Total'\n",
    "preds = dict(zip(interp_cols[1:],  np.append(prediction, 1.0)))\n",
    "preds['predictor'] = 'P(class)'\n",
    "interp_totals = pd.DataFrame(columns=interp_cols)\n",
    "interp_totals = interp_totals.append(priors, ignore_index=True)\n",
    "\n",
    "interp_totals = interp_totals.append(totals, ignore_index=True)\n",
    "interp_totals = interp_totals.append(preds, ignore_index=True)\n",
    "interp_totals"
   ]
  },
  {
   "cell_type": "markdown",
   "metadata": {},
   "source": [
    "## LIME"
   ]
  },
  {
   "cell_type": "code",
   "execution_count": null,
   "metadata": {
    "scrolled": true
   },
   "outputs": [],
   "source": [
    "# basic setup\n",
    "import lime\n",
    "import lime.lime_tabular as limtab\n",
    "\n",
    "np.random.seed(seed)\n",
    "\n",
    "explainer = limtab.LimeTabularExplainer(training_data=np.array(X_train_enc.todense())\n",
    "                                        , feature_names=onehot_features\n",
    "                                        , training_labels=y_train\n",
    "                                        , class_names=class_names\n",
    "                                        , categorical_features=range(len(onehot_features))\n",
    "                                        , categorical_names=onehot_features\n",
    "                                        , mode='classification'\n",
    "                                        , discretize_continuous=False\n",
    "                                        , verbose=False)\n",
    "\n",
    "exp = explainer.explain_instance(np.array(encoder.transform(batch[instance:instance+1]).todense())[0]\n",
    "                                 , rf.predict_proba\n",
    "                                 , top_labels=4)"
   ]
  },
  {
   "cell_type": "code",
   "execution_count": null,
   "metadata": {
    "scrolled": true
   },
   "outputs": [],
   "source": [
    "fig = exp.as_pyplot_figure(label=pred_class_code)\n",
    "\n",
    "exp.as_list(label=pred_class_code)"
   ]
  },
  {
   "cell_type": "code",
   "execution_count": null,
   "metadata": {
    "scrolled": true
   },
   "outputs": [],
   "source": [
    "print(pretty_print(ra3.pruned_rule))\n",
    "print(pretty_print(ra.pruned_rule))\n",
    "print('health ' + get_label('health', 2))\n",
    "print('parents ' + get_label('parents', 2))\n",
    "print('social ' + get_label('social', 0))\n",
    "print('finance ' + get_label('finance', 0))\n",
    "print('housing ' + get_label('housing', 2))\n",
    "print('form ' + get_label('form', 0))\n",
    "print('has_nurs ' + get_label('has_nurs', 1))\n",
    "print('children ' + get_label('children', 1))"
   ]
  },
  {
   "cell_type": "code",
   "execution_count": null,
   "metadata": {
    "scrolled": true
   },
   "outputs": [],
   "source": [
    "# Show the runner up class details\n",
    "fig = exp.as_pyplot_figure(label=second_class_code)\n",
    "exp.as_list(label=second_class_code)"
   ]
  },
  {
   "cell_type": "code",
   "execution_count": null,
   "metadata": {
    "scrolled": true
   },
   "outputs": [],
   "source": [
    "exp.show_in_notebook()"
   ]
  },
  {
   "cell_type": "code",
   "execution_count": null,
   "metadata": {
    "scrolled": true
   },
   "outputs": [],
   "source": [
    "# Priors for health feature\n",
    "health_idx = features.index('health')\n",
    "print(explainer.categorical_names[health_idx])\n",
    "print(explainer.feature_frequencies[health_idx])"
   ]
  },
  {
   "cell_type": "code",
   "execution_count": null,
   "metadata": {
    "scrolled": true
   },
   "outputs": [],
   "source": [
    "import pyfpgrowth as fpg\n",
    "patterns = fpg.find_frequent_patterns(paths_0, 200)\n",
    "patterns"
   ]
  },
  {
   "cell_type": "code",
   "execution_count": null,
   "metadata": {
    "scrolled": true
   },
   "outputs": [],
   "source": [
    "[i for i, (f, t) in enumerate(zip(var_names, vars_types)) if t == 'nominal' and vars_dict[f]['class_col'] == False]"
   ]
  },
  {
   "cell_type": "code",
   "execution_count": null,
   "metadata": {
    "scrolled": true
   },
   "outputs": [],
   "source": [
    "tt_correct_stats[3]['n_node_traversals']# - tt_incorrect_stats[3]['n_node_traversals']"
   ]
  },
  {
   "cell_type": "code",
   "execution_count": null,
   "metadata": {
    "scrolled": true
   },
   "outputs": [],
   "source": [
    "[f for _,f in sorted(zip(rank,onehot_features))]"
   ]
  },
  {
   "cell_type": "code",
   "execution_count": null,
   "metadata": {
    "scrolled": true
   },
   "outputs": [],
   "source": [
    "lr = np.log(tt_correct_stats[1]['p_lower_traversals']/tt_incorrect_stats[1]['p_lower_traversals'])\n",
    "np.where(lr == min(abs(lr)))[0][0]"
   ]
  },
  {
   "cell_type": "code",
   "execution_count": null,
   "metadata": {
    "scrolled": false
   },
   "outputs": [],
   "source": [
    "# create the rule accumulator\n",
    "ra = rule_accumulator(vars_dict=vars_dict, onehot_dict = onehot_dict, rule_list=sorted_fp)\n",
    "\n",
    "# run the profile\n",
    "ra, model_votes = profile_covprecis(instance=instance, target_class=3\n",
    "                                     , fp_object = nfp\n",
    "                                     , rule_acc = ra\n",
    "                                     , training_data = encoder.transform(training_data)\n",
    "                                     , training_labels = training_labels\n",
    "                                     , features = onehot_features\n",
    "                                     , class_names = class_names\n",
    "                                     , stopping_param = 0.8)"
   ]
  },
  {
   "cell_type": "code",
   "execution_count": null,
   "metadata": {
    "scrolled": true
   },
   "outputs": [],
   "source": [
    "onehot_features"
   ]
  },
  {
   "cell_type": "code",
   "execution_count": null,
   "metadata": {
    "scrolled": true
   },
   "outputs": [],
   "source": []
  },
  {
   "cell_type": "code",
   "execution_count": null,
   "metadata": {
    "scrolled": true
   },
   "outputs": [],
   "source": []
  }
 ],
 "metadata": {
  "anaconda-cloud": {},
  "kernelspec": {
   "display_name": "Python [conda env:Anaconda3]",
   "language": "python",
   "name": "conda-env-Anaconda3-py"
  },
  "language_info": {
   "codemirror_mode": {
    "name": "ipython",
    "version": 3
   },
   "file_extension": ".py",
   "mimetype": "text/x-python",
   "name": "python",
   "nbconvert_exporter": "python",
   "pygments_lexer": "ipython3",
   "version": "3.5.4"
  }
 },
 "nbformat": 4,
 "nbformat_minor": 2
}
