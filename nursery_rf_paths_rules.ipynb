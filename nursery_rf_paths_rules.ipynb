{
 "cells": [
  {
   "cell_type": "markdown",
   "metadata": {},
   "source": [
    "### Prologue"
   ]
  },
  {
   "cell_type": "code",
   "execution_count": 1,
   "metadata": {},
   "outputs": [
    {
     "name": "stdout",
     "output_type": "stream",
     "text": [
      "Utility code in the associated file performs the following steps:\n",
      "defines function to print pretty confusion matrix: plot_confusion_matrix()\n",
      "defines a function to get the class code by label: get_class_code()\n",
      "defines a function to plot a tree inline: tree_to_code()\n",
      "defines a funciton to extract all the structural arrays of a tree: get_tree_structure()\n",
      "defines a function to extract a metrics dictionary from a random forest: explore_forest()\n",
      "defines a function to map the path of an instance down a tree: tree_path()\n",
      "defines a function to map the path of an instance down a tree ensemble: forest_path()\n",
      "defines a function to find the majority predicted class from object returned by forest_path(): major_class_from_forest_paths()\n",
      "defines a function to convert a tree into a function: tree_to_code()\n",
      "defines a function to get list of all the paths for one instance out of a forest_paths object: get_paths()\n",
      "defines a function to get basic labels back from one hot encoded label names: decode onehot\n",
      "defines a function to get basic labels back from one hot encoded label names for all paths in a get_paths() object: decode onehot\n",
      "defines a function with an apriori based algorithm for finding frequent patterns from a list of paths: apriori()\n",
      "\n"
     ]
    }
   ],
   "source": [
    "%run nursery_utils.py\n",
    "\n",
    "%matplotlib inline"
   ]
  },
  {
   "cell_type": "code",
   "execution_count": 2,
   "metadata": {},
   "outputs": [
    {
     "name": "stdout",
     "output_type": "stream",
     "text": [
      "Utility code in the associated file performs the following steps:\n",
      "set random seed\n",
      "import packages and modules\n",
      "defines a custom summary function: rstr()\n",
      "create the list of variable names: var_names\n",
      "create the list of features (var_names less class): features\n",
      "import the nursery.csv file\n",
      "create the pandas dataframe and prints head: nursery\n",
      "create the categorical var encoder dictionary: le_dict\n",
      "create a function to get any code for a column name and label: get_code\n",
      "create the dictionary of categorical values: categories\n",
      "creates the list of one hot encoded variable names, onehot_features\n",
      "create the list of class names: class_names\n",
      "create the pandas dataframe with encoded vars: nursery_pre\n",
      "create the pandas dataframe containing all features less class: X\n",
      "create the pandas series containing the class 'decision': y\n",
      "create the training and test sets: X_train, y_train, X_test, y_test\n",
      "evaluate the training and test set priors and print them: train_priors, test_priors\n",
      "create a One Hot Encoder and encode the train set: X_train_enc\n",
      "(avoids treating variables as ordinal or continuous)\n",
      "\n",
      "nursery.head()\n",
      "  parents has_nurs      form children     housing     finance         social  \\\n",
      "0   usual   proper  complete        1  convenient  convenient        nonprob   \n",
      "1   usual   proper  complete        1  convenient  convenient        nonprob   \n",
      "2   usual   proper  complete        1  convenient  convenient        nonprob   \n",
      "3   usual   proper  complete        1  convenient  convenient  slightly_prob   \n",
      "4   usual   proper  complete        1  convenient  convenient  slightly_prob   \n",
      "\n",
      "        health   decision  \n",
      "0  recommended  recommend  \n",
      "1     priority   priority  \n",
      "2    not_recom  not_recom  \n",
      "3  recommended  recommend  \n",
      "4     priority   priority  \n",
      "\n",
      "shape\n",
      "(12960, 9)\n",
      "\n",
      "variables summary\n",
      "parents                    [[usual, pretentious, great_pret]]\n",
      "has_nurs    [[proper, less_proper, improper, critical, ver...\n",
      "form              [[complete, completed, incomplete, foster]]\n",
      "children                                    [[1, 2, 3, more]]\n",
      "housing                   [[convenient, less_conv, critical]]\n",
      "finance                                [[convenient, inconv]]\n",
      "social                [[nonprob, slightly_prob, problematic]]\n",
      "health                   [[recommended, priority, not_recom]]\n",
      "decision    [[recommend, priority, not_recom, very_recom, ...\n",
      "dtype: object\n",
      "\n",
      "\n",
      "Training Priors\n",
      "not_recom 0.329475308642\n",
      "priority 0.332010582011\n",
      "recommend 0.000110229276896\n",
      "spec_prior 0.3139329806\n",
      "very_recom 0.0244708994709\n",
      "\n",
      "\n",
      "Test Priors\n",
      "not_recom 0.342335390947\n",
      "priority 0.322530864198\n",
      "recommend 0.000257201646091\n",
      "spec_prior 0.307613168724\n",
      "very_recom 0.0272633744856\n"
     ]
    }
   ],
   "source": [
    "%run nursery_dataprep.py"
   ]
  },
  {
   "cell_type": "code",
   "execution_count": 3,
   "metadata": {},
   "outputs": [
    {
     "name": "stdout",
     "output_type": "stream",
     "text": [
      "Best OOB: 0.9881\n",
      "Grid: {'n_estimators': 1000, 'min_samples_leaf': 1, 'max_depth': 16}\n",
      "0.987190964529\n",
      "0.745192629849\n"
     ]
    }
   ],
   "source": [
    "# create the usual RF instances\n",
    "# get the parameters from previous parameter tuning events\n",
    "with open('results.json', 'r') as infile:\n",
    "    results = json.load(infile)\n",
    "\n",
    "results = pd.DataFrame(results)\n",
    "best_grid = results.loc[results['score'].idxmax()]\n",
    "print(\"Best OOB: \" \"{:0.4f}\".format(best_grid.score))\n",
    "\n",
    "# get the correct packed arguments for RFClassifier\n",
    "best_params = {k: int(v) for k, v in best_grid.items() if k not in ('score', 'elapsed_time')}\n",
    "print(\"Grid:\", best_params)\n",
    "rf = RandomForestClassifier(random_state=seed, oob_score=True, **best_params)\n",
    "rf.fit(X_train_enc, y_train)\n",
    "\n",
    "# helper function for prediction\n",
    "enc_model = make_pipeline(encoder, rf)\n",
    "\n",
    "pred = enc_model.predict(X_test)\n",
    "print(metrics.cohen_kappa_score(y_test, pred))\n",
    "\n",
    "# this is the very simplified forest, for easy counting and validation\n",
    "rf_simple = RandomForestClassifier(n_estimators = 10\n",
    "                                   , max_depth = 3\n",
    "                                   , min_samples_leaf = 250\n",
    "                                   , random_state=seed)\n",
    "rf_simple.fit(X_train_enc, y_train)\n",
    "\n",
    "# helper function for prediction\n",
    "enc_model_simple = make_pipeline(encoder, rf_simple)\n",
    "\n",
    "pred = enc_model_simple.predict(X_test)\n",
    "print(metrics.cohen_kappa_score(y_test, pred))\n",
    "cm = metrics.confusion_matrix(y_test, pred)"
   ]
  },
  {
   "cell_type": "code",
   "execution_count": 4,
   "metadata": {
    "collapsed": true
   },
   "outputs": [],
   "source": [
    "# Pull out single trees as examples\n",
    "tree_idx1 = 0\n",
    "tree_idx2 = 1\n",
    "\n",
    "instance_idx1 = 0\n",
    "instance_idx2 = 1\n",
    "\n",
    "# from the deep and complex model\n",
    "rft1 = rf.estimators_[tree_idx1]\n",
    "rft2 = rf.estimators_[tree_idx2]\n",
    "# from the simple model\n",
    "rft_simple1 = rf_simple.estimators_[tree_idx1]\n",
    "rft_simple2 = rf_simple.estimators_[tree_idx2]"
   ]
  },
  {
   "cell_type": "markdown",
   "metadata": {},
   "source": [
    "### Scenario\n",
    "In this workbook, I traverse the individual trees within a forest, extracting the path of an instance and converting to rules. We will want to combine the rules of all the trees into a \"instance master\" rule set for each instance. We may also want to discover the \"class master\" rule set that predicts each class."
   ]
  },
  {
   "cell_type": "code",
   "execution_count": 5,
   "metadata": {},
   "outputs": [],
   "source": [
    "itp_simple_nolabels = tree_path(tree = rft_simple1\n",
    "                   , feature_names = onehot_features\n",
    "                   , instances = X_test[0:5]\n",
    "                   , feature_encoding = encoder)\n",
    "\n",
    "itp_simple = tree_path(tree = rft_simple1\n",
    "                   , feature_names = onehot_features\n",
    "                   , instances = X_test[0:5]\n",
    "                   , labels = y_test[0:5]\n",
    "                   , feature_encoding = encoder)"
   ]
  },
  {
   "cell_type": "code",
   "execution_count": 6,
   "metadata": {},
   "outputs": [],
   "source": [
    "# pd.DataFrame(itp1[0]['path'])"
   ]
  },
  {
   "cell_type": "code",
   "execution_count": 7,
   "metadata": {},
   "outputs": [],
   "source": [
    "ifp_simple = forest_path(forest = rf_simple\n",
    "                   , feature_names = onehot_features\n",
    "                   , instances = X_test[0:5]\n",
    "                   , labels = y_test[0:5]\n",
    "                   , feature_encoding = encoder)"
   ]
  },
  {
   "cell_type": "code",
   "execution_count": 8,
   "metadata": {},
   "outputs": [
    {
     "name": "stdout",
     "output_type": "stream",
     "text": [
      "{'tree_correct': True, 'true_class': 0, 'pred_proba': [0.5057358243198952, 0.3087512291052114, 0.0, 0.15142576204523106, 0.034087184529662404], 'pred_class': 0, 'path': {'feature_name': ['parents_great_pret', 'children_1', 'health_priority'], 'feature_idx': [0, 12, 25], 'feature_value': [0.0, 0.0, 0.0], 'leq_threshold': [True, True, True], 'threshold': [0.5, 0.5, 0.5]}}\n",
      "{'tree_correct': True, 'true_class': 0, 'pred_proba': [1.0, 0.0, 0.0, 0.0, 0.0], 'pred_class': 0, 'path': {'feature_name': ['has_nurs_very_crit', 'health_not_recom'], 'feature_idx': [7, 24], 'feature_value': [0.0, 1.0], 'leq_threshold': [True, False], 'threshold': [0.5, 0.5]}}\n",
      "{'tree_correct': True, 'true_class': 0, 'pred_proba': [1.0, 0.0, 0.0, 0.0, 0.0], 'pred_class': 0, 'path': {'feature_name': ['parents_usual', 'health_not_recom'], 'feature_idx': [2, 24], 'feature_value': [1.0, 1.0], 'leq_threshold': [False, False], 'threshold': [0.5, 0.5]}}\n"
     ]
    }
   ],
   "source": [
    "print(ifp_simple[0][0])\n",
    "print(ifp_simple[1][0]) # different tree, same instance\n",
    "print(ifp_simple[2][0]) # different tree, same instance"
   ]
  },
  {
   "cell_type": "code",
   "execution_count": 9,
   "metadata": {},
   "outputs": [],
   "source": [
    "# do a run for the fully grown forest\n",
    "ifp = forest_path(forest = rf\n",
    "                   , feature_names = onehot_features\n",
    "                   , instances = X_test[0:5]\n",
    "                   , labels = y_test[0:5]\n",
    "                   , feature_encoding = encoder)"
   ]
  },
  {
   "cell_type": "code",
   "execution_count": 10,
   "metadata": {},
   "outputs": [
    {
     "name": "stdout",
     "output_type": "stream",
     "text": [
      "{'tree_correct': True, 'true_class': 3, 'pred_proba': [0.0, 0.0, 0.0, 1.0, 0.0], 'pred_class': 3, 'path': {'feature_name': ['parents_great_pret', 'children_1', 'health_priority', 'has_nurs_proper', 'has_nurs_less_proper', 'parents_pretentious', 'children_2', 'has_nurs_improper', 'housing_convenient'], 'feature_idx': [0, 12, 25, 6, 5, 1, 13, 4, 16], 'feature_value': [0.0, 0.0, 1.0, 0.0, 0.0, 0.0, 0.0, 0.0, 0.0], 'leq_threshold': [True, True, False, True, True, True, True, True, True], 'threshold': [0.5, 0.5, 0.5, 0.5, 0.5, 0.5, 0.5, 0.5, 0.5]}}\n",
      "{'tree_correct': True, 'true_class': 3, 'pred_proba': [0.0, 0.0, 0.0, 1.0, 0.0], 'pred_class': 3, 'path': {'feature_name': ['has_nurs_very_crit', 'health_not_recom', 'housing_convenient', 'form_complete', 'children_more'], 'feature_idx': [7, 24, 16, 8, 15], 'feature_value': [0.0, 0.0, 0.0, 1.0, 1.0], 'leq_threshold': [True, True, True, False, False], 'threshold': [0.5, 0.5, 0.5, 0.5, 0.5]}}\n",
      "{'tree_correct': True, 'true_class': 3, 'pred_proba': [0.0, 0.0, 0.0, 1.0, 0.0], 'pred_class': 3, 'path': {'feature_name': ['parents_usual', 'health_not_recom', 'health_recommended', 'has_nurs_critical', 'has_nurs_improper', 'children_1', 'has_nurs_very_crit'], 'feature_idx': [2, 24, 26, 3, 4, 12, 7], 'feature_value': [0.0, 0.0, 0.0, 0.0, 0.0, 0.0, 1.0], 'leq_threshold': [True, True, True, True, True, True, False], 'threshold': [0.5, 0.5, 0.5, 0.5, 0.5, 0.5, 0.5]}}\n"
     ]
    }
   ],
   "source": [
    "print(ifp[0][2])\n",
    "print(ifp[1][2]) # different tree, same instance\n",
    "print(ifp[2][2]) # different tree, same instance"
   ]
  },
  {
   "cell_type": "code",
   "execution_count": 11,
   "metadata": {},
   "outputs": [
    {
     "name": "stdout",
     "output_type": "stream",
     "text": [
      "instance 0, true class 0\n",
      " 993 out of 1000 estimators predicted correctly\n",
      "instance 1, true class 1\n",
      " 646 out of 1000 estimators predicted correctly\n",
      "instance 2, true class 3\n",
      " 973 out of 1000 estimators predicted correctly\n",
      "instance 2, true class 3\n",
      " 993 out of 1000 estimators predicted correctly\n",
      "instance 2, true class 1\n",
      " 949 out of 1000 estimators predicted correctly\n"
     ]
    }
   ],
   "source": [
    "# class 0 is very easy to distinguish, instance 0 is class 0\n",
    "print('instance 0, true class 0\\n'\n",
    "      , sum([ifp[i][0]['pred_class'] == 0 for i in range(best_params['n_estimators'])])\n",
    "      , 'out of'\n",
    "      , best_params['n_estimators']\n",
    "      , 'estimators predicted correctly')\n",
    "# class 1 and 3 get mixed up. instance 1 is class 1\n",
    "print('instance 1, true class 1\\n'\n",
    "      , sum([ifp[i][1]['pred_class'] == 1 for i in range(best_params['n_estimators'])])\n",
    "      , 'out of'\n",
    "      , best_params['n_estimators']\n",
    "      , 'estimators predicted correctly')\n",
    "# class 1 and 3 get mixed up. instance 2 is class 3\n",
    "print('instance 2, true class 3\\n'\n",
    "      , sum([ifp[i][2]['pred_class'] == 3 for i in range(best_params['n_estimators'])])\n",
    "      , 'out of'\n",
    "      , best_params['n_estimators']\n",
    "      , 'estimators predicted correctly')\n",
    "# class 1 and 3 get mixed up. instance 3 is class 3\n",
    "print('instance 2, true class 3\\n'\n",
    "      , sum([ifp[i][3]['pred_class'] == 3 for i in range(best_params['n_estimators'])])\n",
    "      , 'out of'\n",
    "      , best_params['n_estimators']\n",
    "      , 'estimators predicted correctly')\n",
    "# class 1 and 3 get mixed up. instance 4 is class 1\n",
    "print('instance 2, true class 1\\n'\n",
    "      , sum([ifp[i][4]['pred_class'] == 1 for i in range(best_params['n_estimators'])])\n",
    "      , 'out of'\n",
    "      , best_params['n_estimators']\n",
    "      , 'estimators predicted correctly')"
   ]
  },
  {
   "cell_type": "code",
   "execution_count": 12,
   "metadata": {},
   "outputs": [
    {
     "name": "stdout",
     "output_type": "stream",
     "text": [
      "instance 0, true class 0\n",
      " 10 out of 10 estimators predicted correctly\n",
      "instance 1, true class 1\n",
      " 3 out of 10 estimators predicted correctly\n",
      "instance 2, true class 3\n",
      " 5 out of 10 estimators predicted correctly\n",
      "instance 2, true class 3\n",
      " 8 out of 10 estimators predicted correctly\n",
      "instance 2, true class 1\n",
      " 5 out of 10 estimators predicted correctly\n"
     ]
    }
   ],
   "source": [
    "# class 0 is very easy to distinguish, instance 0 is class 0\n",
    "print('instance 0, true class 0\\n'\n",
    "      , sum([ifp_simple[i][0]['pred_class'] == 0 for i in range(10)])\n",
    "      , 'out of'\n",
    "      , 10\n",
    "      , 'estimators predicted correctly')\n",
    "# class 1 and 3 get mixed up. instance 1 is class 1\n",
    "print('instance 1, true class 1\\n'\n",
    "      , sum([ifp_simple[i][1]['pred_class'] == 1 for i in range(10)])\n",
    "      , 'out of'\n",
    "      , 10\n",
    "      , 'estimators predicted correctly')\n",
    "# class 1 and 3 get mixed up. instance 2 is class 3\n",
    "print('instance 2, true class 3\\n'\n",
    "      , sum([ifp_simple[i][2]['pred_class'] == 3 for i in range(10)])\n",
    "      , 'out of'\n",
    "      , 10\n",
    "      , 'estimators predicted correctly')\n",
    "# class 1 and 3 get mixed up. instance 3 is class 3\n",
    "print('instance 2, true class 3\\n'\n",
    "      , sum([ifp_simple[i][3]['pred_class'] == 3 for i in range(10)])\n",
    "      , 'out of'\n",
    "      , 10\n",
    "      , 'estimators predicted correctly')\n",
    "# class 1 and 3 get mixed up. instance 4 is class 1\n",
    "print('instance 2, true class 1\\n'\n",
    "      , sum([ifp_simple[i][4]['pred_class'] == 1 for i in range(10)])\n",
    "      , 'out of'\n",
    "      , 10\n",
    "      , 'estimators predicted correctly')"
   ]
  },
  {
   "cell_type": "code",
   "execution_count": 13,
   "metadata": {
    "scrolled": false
   },
   "outputs": [
    {
     "name": "stdout",
     "output_type": "stream",
     "text": [
      "[{'feature_name': ['parents_great_pret', 'children_1', 'health_priority'], 'feature_idx': [0, 12, 25], 'feature_value': [0.0, 1.0, 1.0], 'leq_threshold': [True, False, False], 'threshold': [0.5, 0.5, 0.5]}, {'feature_name': ['has_nurs_very_crit', 'health_not_recom', 'parents_great_pret'], 'feature_idx': [7, 24, 0], 'feature_value': [0.0, 0.0, 0.0], 'leq_threshold': [True, True, True], 'threshold': [0.5, 0.5, 0.5]}, {'feature_name': ['children_1', 'has_nurs_proper', 'health_not_recom'], 'feature_idx': [12, 6, 24], 'feature_value': [0.0, 0.0, 0.0], 'leq_threshold': [True, True, True], 'threshold': [0.5, 0.5, 0.5]}]\n",
      "[{'feature_name': ['parents_usual', 'health_recommended', 'health_not_recom'], 'feature_idx': [2, 26, 24], 'feature_value': [1.0, 0.0, 0.0], 'leq_threshold': [False, True, True], 'threshold': [0.5, 0.5, 0.5]}, {'feature_name': ['health_priority', 'has_nurs_proper', 'children_more'], 'feature_idx': [25, 6, 15], 'feature_value': [0.0, 0.0, 0.0], 'leq_threshold': [True, True, True], 'threshold': [0.5, 0.5, 0.5]}, {'feature_name': ['health_priority', 'has_nurs_less_proper', 'children_3'], 'feature_idx': [25, 5, 14], 'feature_value': [0.0, 0.0, 0.0], 'leq_threshold': [True, True, True], 'threshold': [0.5, 0.5, 0.5]}, {'feature_name': ['health_priority', 'has_nurs_less_proper', 'parents_great_pret'], 'feature_idx': [25, 5, 0], 'feature_value': [0.0, 0.0, 0.0], 'leq_threshold': [True, True, True], 'threshold': [0.5, 0.5, 0.5]}, {'feature_name': ['has_nurs_critical', 'health_priority', 'parents_usual'], 'feature_idx': [3, 25, 2], 'feature_value': [0.0, 1.0, 0.0], 'leq_threshold': [True, False, True], 'threshold': [0.5, 0.5, 0.5]}, {'feature_name': ['health_priority', 'has_nurs_very_crit', 'has_nurs_less_proper'], 'feature_idx': [25, 7, 5], 'feature_value': [0.0, 0.0, 0.0], 'leq_threshold': [True, True, True], 'threshold': [0.5, 0.5, 0.5]}]\n"
     ]
    },
    {
     "data": {
      "text/html": [
       "<div>\n",
       "<table border=\"1\" class=\"dataframe\">\n",
       "  <thead>\n",
       "    <tr style=\"text-align: right;\">\n",
       "      <th></th>\n",
       "      <th>feature_idx</th>\n",
       "      <th>feature_name</th>\n",
       "      <th>feature_value</th>\n",
       "      <th>leq_threshold</th>\n",
       "      <th>threshold</th>\n",
       "    </tr>\n",
       "  </thead>\n",
       "  <tbody>\n",
       "    <tr>\n",
       "      <th>0</th>\n",
       "      <td>[0, 12, 25]</td>\n",
       "      <td>[parents_great_pret, children_1, health_priority]</td>\n",
       "      <td>[0.0, 1.0, 1.0]</td>\n",
       "      <td>[True, False, False]</td>\n",
       "      <td>[0.5, 0.5, 0.5]</td>\n",
       "    </tr>\n",
       "    <tr>\n",
       "      <th>1</th>\n",
       "      <td>[7, 24, 0]</td>\n",
       "      <td>[has_nurs_very_crit, health_not_recom, parents...</td>\n",
       "      <td>[0.0, 0.0, 0.0]</td>\n",
       "      <td>[True, True, True]</td>\n",
       "      <td>[0.5, 0.5, 0.5]</td>\n",
       "    </tr>\n",
       "    <tr>\n",
       "      <th>2</th>\n",
       "      <td>[12, 6, 24]</td>\n",
       "      <td>[children_1, has_nurs_proper, health_not_recom]</td>\n",
       "      <td>[0.0, 0.0, 0.0]</td>\n",
       "      <td>[True, True, True]</td>\n",
       "      <td>[0.5, 0.5, 0.5]</td>\n",
       "    </tr>\n",
       "  </tbody>\n",
       "</table>\n",
       "</div>"
      ],
      "text/plain": [
       "   feature_idx                                       feature_name  \\\n",
       "0  [0, 12, 25]  [parents_great_pret, children_1, health_priority]   \n",
       "1   [7, 24, 0]  [has_nurs_very_crit, health_not_recom, parents...   \n",
       "2  [12, 6, 24]    [children_1, has_nurs_proper, health_not_recom]   \n",
       "\n",
       "     feature_value         leq_threshold        threshold  \n",
       "0  [0.0, 1.0, 1.0]  [True, False, False]  [0.5, 0.5, 0.5]  \n",
       "1  [0.0, 0.0, 0.0]    [True, True, True]  [0.5, 0.5, 0.5]  \n",
       "2  [0.0, 0.0, 0.0]    [True, True, True]  [0.5, 0.5, 0.5]  "
      ]
     },
     "execution_count": 13,
     "metadata": {},
     "output_type": "execute_result"
    }
   ],
   "source": [
    "# just the correct trees (though we might not know this, and have to take the majority)\n",
    "ifp_simple_correct_paths = [ifp_simple[i][1]['path'] for i in range(10) if ifp_simple[i][1]['pred_class'] == 1]\n",
    "\n",
    "mc = major_class_from_forest_paths(ifp_simple, 1)\n",
    "# just the trees that voted in the majority\n",
    "ifp_simple_majclass_paths = [ifp_simple[i][1]['path'] for i in range(10) if ifp_simple[i][1]['pred_class'] == mc]\n",
    "\n",
    "print(ifp_simple_correct_paths)\n",
    "print(ifp_simple_majclass_paths)\n",
    "\n",
    "pd.DataFrame(ifp_simple_correct_paths)"
   ]
  },
  {
   "cell_type": "code",
   "execution_count": 14,
   "metadata": {},
   "outputs": [],
   "source": [
    "# ifp structure is a list of objects for each tree.\n",
    "# each object contains a list of objects for each instance.\n",
    "# object is a dictionary, one of the keys is 'tree_correct'\n",
    "# so we would like to filter only for correct trees\n"
   ]
  },
  {
   "cell_type": "code",
   "execution_count": 15,
   "metadata": {},
   "outputs": [
    {
     "data": {
      "text/plain": [
       "{'path': {'feature_idx': [0, 12, 25, 6, 5, 1, 13, 4, 16],\n",
       "  'feature_name': ['parents_great_pret',\n",
       "   'children_1',\n",
       "   'health_priority',\n",
       "   'has_nurs_proper',\n",
       "   'has_nurs_less_proper',\n",
       "   'parents_pretentious',\n",
       "   'children_2',\n",
       "   'has_nurs_improper',\n",
       "   'housing_convenient'],\n",
       "  'feature_value': [0.0, 0.0, 1.0, 0.0, 0.0, 0.0, 0.0, 0.0, 0.0],\n",
       "  'leq_threshold': [True, True, False, True, True, True, True, True, True],\n",
       "  'threshold': [0.5, 0.5, 0.5, 0.5, 0.5, 0.5, 0.5, 0.5, 0.5]},\n",
       " 'pred_class': 3,\n",
       " 'pred_proba': [0.0, 0.0, 0.0, 1.0, 0.0],\n",
       " 'tree_correct': True,\n",
       " 'true_class': 3}"
      ]
     },
     "execution_count": 15,
     "metadata": {},
     "output_type": "execute_result"
    }
   ],
   "source": [
    "ifp[0][2]"
   ]
  },
  {
   "cell_type": "code",
   "execution_count": 16,
   "metadata": {},
   "outputs": [
    {
     "ename": "NameError",
     "evalue": "name 'fp' is not defined",
     "output_type": "error",
     "traceback": [
      "\u001b[0;31m-----------------------------------------------------------------------\u001b[0m",
      "\u001b[0;31mNameError\u001b[0m                             Traceback (most recent call last)",
      "\u001b[0;32m<ipython-input-16-bf04a6229a54>\u001b[0m in \u001b[0;36m<module>\u001b[0;34m()\u001b[0m\n\u001b[0;32m----> 1\u001b[0;31m \u001b[0mpaths\u001b[0m \u001b[1;33m=\u001b[0m \u001b[0mget_paths\u001b[0m\u001b[1;33m(\u001b[0m\u001b[0mifp\u001b[0m\u001b[1;33m,\u001b[0m \u001b[1;36m2\u001b[0m\u001b[1;33m,\u001b[0m \u001b[0monly_correct_trees\u001b[0m\u001b[1;33m=\u001b[0m\u001b[1;32mTrue\u001b[0m\u001b[1;33m)\u001b[0m\u001b[1;33m\u001b[0m\u001b[0m\n\u001b[0m\u001b[1;32m      2\u001b[0m \u001b[0mprint\u001b[0m\u001b[1;33m(\u001b[0m\u001b[1;34m'There are'\u001b[0m\u001b[1;33m,\u001b[0m \u001b[0mlen\u001b[0m\u001b[1;33m(\u001b[0m\u001b[0mpaths\u001b[0m\u001b[1;33m)\u001b[0m\u001b[1;33m,\u001b[0m \u001b[1;34m'correctly predicting trees.'\u001b[0m\u001b[1;33m)\u001b[0m\u001b[1;33m\u001b[0m\u001b[0m\n\u001b[1;32m      3\u001b[0m \u001b[1;33m\u001b[0m\u001b[0m\n\u001b[1;32m      4\u001b[0m \u001b[0mprint\u001b[0m\u001b[1;33m(\u001b[0m\u001b[0mpaths\u001b[0m\u001b[1;33m[\u001b[0m\u001b[1;33m:\u001b[0m\u001b[1;36m2\u001b[0m\u001b[1;33m]\u001b[0m\u001b[1;33m)\u001b[0m\u001b[1;33m\u001b[0m\u001b[0m\n\u001b[1;32m      5\u001b[0m \u001b[0mfreq_patts\u001b[0m \u001b[1;33m=\u001b[0m \u001b[0mapriori\u001b[0m\u001b[1;33m(\u001b[0m\u001b[0mtransactions\u001b[0m \u001b[1;33m=\u001b[0m \u001b[0mpaths\u001b[0m\u001b[1;33m,\u001b[0m \u001b[0msupport\u001b[0m \u001b[1;33m=\u001b[0m \u001b[1;36m0.2\u001b[0m\u001b[1;33m,\u001b[0m \u001b[0mmax_itemset_size\u001b[0m \u001b[1;33m=\u001b[0m \u001b[1;36m6\u001b[0m\u001b[1;33m)\u001b[0m\u001b[1;33m\u001b[0m\u001b[0m\n",
      "\u001b[0;32mC:\\Dev\\Study\\python\\interpret_basics\\nursery_utils.py\u001b[0m in \u001b[0;36mget_paths\u001b[0;34m(forest_paths, instance, only_correct_trees)\u001b[0m\n\u001b[1;32m    344\u001b[0m \u001b[1;32mdef\u001b[0m \u001b[0mget_paths\u001b[0m\u001b[1;33m(\u001b[0m\u001b[0mforest_paths\u001b[0m\u001b[1;33m,\u001b[0m \u001b[0minstance\u001b[0m\u001b[1;33m,\u001b[0m \u001b[0monly_correct_trees\u001b[0m\u001b[1;33m=\u001b[0m\u001b[1;32mTrue\u001b[0m\u001b[1;33m)\u001b[0m\u001b[1;33m:\u001b[0m\u001b[1;33m\u001b[0m\u001b[0m\n\u001b[1;32m    345\u001b[0m     \u001b[0minstance\u001b[0m \u001b[1;33m==\u001b[0m \u001b[0mmath\u001b[0m\u001b[1;33m.\u001b[0m\u001b[0mfloor\u001b[0m\u001b[1;33m(\u001b[0m\u001b[0minstance\u001b[0m\u001b[1;33m)\u001b[0m \u001b[1;31m# make sure it's an integer\u001b[0m\u001b[1;33m\u001b[0m\u001b[0m\n\u001b[0;32m--> 346\u001b[0;31m     \u001b[0mn_paths\u001b[0m \u001b[1;33m=\u001b[0m \u001b[0mlen\u001b[0m\u001b[1;33m(\u001b[0m\u001b[0mfp\u001b[0m\u001b[1;33m)\u001b[0m\u001b[1;33m\u001b[0m\u001b[0m\n\u001b[0m\u001b[1;32m    347\u001b[0m     \u001b[1;32mif\u001b[0m \u001b[0monly_correct_trees\u001b[0m\u001b[1;33m:\u001b[0m\u001b[1;33m\u001b[0m\u001b[0m\n\u001b[1;32m    348\u001b[0m         \u001b[0mpaths\u001b[0m \u001b[1;33m=\u001b[0m \u001b[1;33m[\u001b[0m\u001b[0mfp\u001b[0m\u001b[1;33m[\u001b[0m\u001b[0mi\u001b[0m\u001b[1;33m]\u001b[0m\u001b[1;33m[\u001b[0m\u001b[0minstance\u001b[0m\u001b[1;33m]\u001b[0m\u001b[1;33m[\u001b[0m\u001b[1;34m'path'\u001b[0m\u001b[1;33m]\u001b[0m\u001b[1;33m[\u001b[0m\u001b[1;34m'feature_name'\u001b[0m\u001b[1;33m]\u001b[0m \u001b[1;32mfor\u001b[0m \u001b[0mi\u001b[0m \u001b[1;32min\u001b[0m \u001b[0mrange\u001b[0m\u001b[1;33m(\u001b[0m\u001b[0mn_paths\u001b[0m\u001b[1;33m)\u001b[0m \u001b[1;32mif\u001b[0m \u001b[0mfp\u001b[0m\u001b[1;33m[\u001b[0m\u001b[0mi\u001b[0m\u001b[1;33m]\u001b[0m\u001b[1;33m[\u001b[0m\u001b[0minstance\u001b[0m\u001b[1;33m]\u001b[0m\u001b[1;33m[\u001b[0m\u001b[1;34m'tree_correct'\u001b[0m\u001b[1;33m]\u001b[0m\u001b[1;33m]\u001b[0m\u001b[1;33m\u001b[0m\u001b[0m\n",
      "\u001b[0;31mNameError\u001b[0m: name 'fp' is not defined"
     ]
    }
   ],
   "source": [
    "paths = get_paths(ifp, 2, only_correct_trees=True)\n",
    "print('There are', len(paths), 'correctly predicting trees.')\n",
    "\n",
    "print(paths[:2])\n",
    "freq_patts = apriori(transactions = paths, support = 0.2, max_itemset_size = 6)\n",
    "print()\n",
    "freq_patts"
   ]
  },
  {
   "cell_type": "code",
   "execution_count": null,
   "metadata": {},
   "outputs": [],
   "source": [
    "from copy import deepcopy\n",
    "decoded_paths = deepcopy(paths) # avoids referential update of the forest paths object\n",
    "\n",
    "decoded_paths = decode_onehot_paths(paths=decoded_paths, labels=features, condense=False)\n",
    "\n",
    "freq_patts_dec = apriori(transactions = decoded_paths, support = 0.2, max_itemset_size = 8)\n",
    "print()\n",
    "freq_patts_dec\n"
   ]
  },
  {
   "cell_type": "code",
   "execution_count": null,
   "metadata": {},
   "outputs": [],
   "source": [
    "decoded_paths = decode_onehot_paths(paths=paths, labels=features)\n",
    "\n",
    "freq_patts_dec = apriori(transactions = decoded_paths, support = 0.2, max_itemset_size = 8)\n",
    "print()\n",
    "freq_patts_dec"
   ]
  }
 ],
 "metadata": {
  "anaconda-cloud": {},
  "kernelspec": {
   "display_name": "Python [conda env:Anaconda3]",
   "language": "python",
   "name": "conda-env-Anaconda3-py"
  },
  "language_info": {
   "codemirror_mode": {
    "name": "ipython",
    "version": 3
   },
   "file_extension": ".py",
   "mimetype": "text/x-python",
   "name": "python",
   "nbconvert_exporter": "python",
   "pygments_lexer": "ipython3",
   "version": "3.5.4"
  }
 },
 "nbformat": 4,
 "nbformat_minor": 2
}
